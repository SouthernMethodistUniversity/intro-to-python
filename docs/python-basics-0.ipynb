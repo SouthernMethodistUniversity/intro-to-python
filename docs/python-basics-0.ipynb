{
 "cells": [
  {
   "cell_type": "markdown",
   "metadata": {},
   "source": [
    "# Python Basics 0\n",
    "* In this notebook we will go over some of the basics of Python.\n",
    "    * Python is a general purpose programming language that is useful for writing scripts to work effectively and reproducibly with data.\n",
    "* **After this introduction, we recommend that you work through Python Basics 1-5, which will go over these concepts, (as well as others) in more detail, with some hands on activities for practice.**"
   ]
  },
  {
   "cell_type": "code",
   "execution_count": null,
   "metadata": {},
   "outputs": [],
   "source": [
    "*from* [Python Basics 1](https://southernmethodistuniversity.github.io/intro-to-python/python-basics-1.html#python-basics-1)\n",
    "\n",
    "# [Python Syntax and Commands](https://southernmethodistuniversity.github.io/intro-to-python/python_ref.html#python-syntax-and-commands)\n",
    "* Expressions & Operators\n",
    "* Data Types (Integers, Floats, and Strings)\n",
    "* Functions\n",
    "* Variables\n",
    "* Loops\n",
    "* Comparison and Equality\n",
    "* Conditionals\n",
    "* Input\n",
    "* Importing Libraries\n",
    "* more on [Python syntax](https://www.w3schools.com/python/python_syntax.asp)"
   ]
  },
  {
   "cell_type": "markdown",
   "metadata": {},
   "source": [
    "## Expressions and Operators\n",
    "\n",
    "The simplest form of Python programming is an [expression](https://www.geeksforgeeks.org/computer-science-fundamentals/expressions-in-python/) using an [operator](https://www.geeksforgeeks.org/python/python-operators/). *An expression is a simple mathematical statement* like:\n",
    "\n",
    "> 1 + 1\n",
    "\n",
    "The operator in this case is `+`, sometimes called \"plus\" or \"addition\". Try this operation in the code box below. Remember to click the \"Run\" button or press Ctrl + Enter (Windows) or shift + return (OS X) on your keyboard to run the code."
   ]
  },
  {
   "cell_type": "code",
   "execution_count": null,
   "metadata": {},
   "outputs": [],
   "source": [
    "# Type the expression in this code block. Then run it.\n"
   ]
  },
  {
   "cell_type": "markdown",
   "metadata": {},
   "source": [
    "We can also do multiplication (\\*) and division (/). While you may have used an \"×\" to represent multiplication in grade school, Python uses an asterisk (\\*). In Python,\n",
    "\n",
    "> 2 × 2\n",
    "\n",
    "is written as\n",
    "\n",
    "> 2 * 2\n",
    "\n"
   ]
  },
  {
   "cell_type": "markdown",
   "metadata": {},
   "source": [
    "When you run, or **evaluate**, an expression in Python, the order of operations is followed. This means that expressions are evaluated in this order:\n",
    "\n",
    "1. Parentheses\n",
    "2. Exponents\n",
    "3. Multiplication and Division (from left to right)\n",
    "4. Addition and Subtraction (from left to right)\n",
    "\n",
    "Python can evaluate parentheses and exponents, as well as a number of additional operators you may not have learned in grade school. "
   ]
  },
  {
   "cell_type": "code",
   "execution_count": null,
   "metadata": {},
   "outputs": [],
   "source": [
    "# Try operations in this code cell.\n",
    "# What happens when you add in parentheses?\n"
   ]
  },
  {
   "cell_type": "markdown",
   "metadata": {
    "toc-hr-collapsed": true,
    "toc-nb-collapsed": true
   },
   "source": [
    "## Data Types (Integers, Floats, and Strings)\n",
    "\n",
    "All expressions evaluate to a single value. In the above examples, our expressions evaluated to single numerical value. [Numerical values come in two basic forms:](https://www.geeksforgeeks.org/python/python-data-types/)\n",
    "\n",
    "* integer\n",
    "* float (or floating-point number)\n",
    "\n",
    "An integer, what we sometimes call a \"whole number\", is a number without a decimal point that can be positive or negative. When a value uses a decimal, it is called a float or floating-point number. \n",
    "\n",
    "Python can also help us manipulate text. A snippet of text in Python is called a [string](https://www.geeksforgeeks.org/python/python-string/). A string can be written with single or double quotes. A string can use letters, spaces, line breaks, and numbers. So 5 is an integer, 5.0 is a float, but '5' and '5.0' are strings. A string can also be blank, such as ''.\n",
    "\n",
    "|Familiar Name | Programming name | Examples |\n",
    "|---|---|---|\n",
    "|Whole number|integer| -3, 0, 2, 534|\n",
    "|Decimal|float | 6.3, -19.23, 5.0, 0.01|\n",
    "|Text|string| 'Hello world', '1700 butterflies', '', '1823'|\n",
    "\n",
    "The distinction between each of these data types may seem unimportant, but Python treats each one differently. For example, we can ask Python whether an integer is equal to a float, but we cannot ask whether a string is equal to an integer or a float.\n",
    "\n",
    "To evaluate whether two values are equal, we can use two equals signs between them. The expression will evaluate to either `True` or `False`."
   ]
  },
  {
   "cell_type": "code",
   "execution_count": 1,
   "metadata": {},
   "outputs": [
    {
     "data": {
      "text/plain": [
       "True"
      ]
     },
     "execution_count": 1,
     "metadata": {},
     "output_type": "execute_result"
    }
   ],
   "source": [
    "# Run this code cell to determine whether the values are equal\n",
    "42 == 42.0"
   ]
  },
  {
   "cell_type": "code",
   "execution_count": 2,
   "metadata": {},
   "outputs": [
    {
     "data": {
      "text/plain": [
       "False"
      ]
     },
     "execution_count": 2,
     "metadata": {},
     "output_type": "execute_result"
    }
   ],
   "source": [
    "# Run this code cell to compare an integer with a string\n",
    "15 == 'fifteen'"
   ]
  },
  {
   "cell_type": "code",
   "execution_count": 3,
   "metadata": {},
   "outputs": [
    {
     "data": {
      "text/plain": [
       "False"
      ]
     },
     "execution_count": 3,
     "metadata": {},
     "output_type": "execute_result"
    }
   ],
   "source": [
    "# Run this code cell to compare an integer with a string\n",
    "15 == '15'"
   ]
  },
  {
   "cell_type": "markdown",
   "metadata": {},
   "source": [
    "When we use the addition operator on integers or floats, they are added to create a sum. When we use the addition operator on strings, they are combined into a single, longer string. This is called [concatenation](https://www.geeksforgeeks.org/python/python-string-concatenation/)."
   ]
  },
  {
   "cell_type": "code",
   "execution_count": null,
   "metadata": {},
   "outputs": [],
   "source": [
    "# Combine the strings 'Hello' and 'World'\n",
    "'hello' + 'world'"
   ]
  },
  {
   "cell_type": "markdown",
   "metadata": {},
   "source": [
    "Notice that the strings are combined exactly as they are written. There is no space between the strings. If we want to include a space, we need to add the space to the end of 'Hello' or the beginning of 'World'. We can also concatenate multiple strings.\n"
   ]
  },
  {
   "cell_type": "code",
   "execution_count": null,
   "metadata": {},
   "outputs": [],
   "source": [
    "# Combine three strings"
   ]
  },
  {
   "cell_type": "markdown",
   "metadata": {},
   "source": [
    "When we use addition operator, the values must be all numbers or all strings. Combining them will create an error.\n"
   ]
  },
  {
   "cell_type": "code",
   "execution_count": 1,
   "metadata": {},
   "outputs": [
    {
     "ename": "TypeError",
     "evalue": "can only concatenate str (not \"int\") to str",
     "output_type": "error",
     "traceback": [
      "\u001b[1;31m---------------------------------------------------------------------------\u001b[0m",
      "\u001b[1;31mTypeError\u001b[0m                                 Traceback (most recent call last)",
      "Cell \u001b[1;32mIn[1], line 2\u001b[0m\n\u001b[0;32m      1\u001b[0m \u001b[38;5;66;03m# Try adding a string to an integer\u001b[39;00m\n\u001b[1;32m----> 2\u001b[0m \u001b[38;5;124m'\u001b[39m\u001b[38;5;124m55\u001b[39m\u001b[38;5;124m'\u001b[39m \u001b[38;5;241m+\u001b[39m \u001b[38;5;241m23\u001b[39m\n",
      "\u001b[1;31mTypeError\u001b[0m: can only concatenate str (not \"int\") to str"
     ]
    }
   ],
   "source": [
    "# Try adding a string to an integer\n",
    "'55' + 23"
   ]
  },
  {
   "cell_type": "markdown",
   "metadata": {},
   "source": [
    "Here, we receive the error `can only concatenate str (not \"int\") to str`. Python assumes we would like to join two strings together, but it does not know how to join a string to an integer. Put another way, Python is unsure if we want:\n",
    "\n",
    ">'55' + 23 \n",
    "\n",
    "to become\n",
    ">'5523'\n",
    "\n",
    "or \n",
    ">78"
   ]
  },
  {
   "cell_type": "markdown",
   "metadata": {},
   "source": [
    "We *can* multiply a string by an integer. The result is simply the string repeated the appropriate number of times.\n"
   ]
  },
  {
   "cell_type": "markdown",
   "metadata": {
    "toc-hr-collapsed": true,
    "toc-nb-collapsed": true
   },
   "source": [
    "## Variables\n",
    "A variable is like a container that stores information. There are many kinds of information that can be stored in a variable, including the data types we have already discussed (integers, floats, and string). We create (or initialize) a variable with an assignment statement. The assignment statement gives the variable an initial value."
   ]
  },
  {
   "cell_type": "code",
   "execution_count": null,
   "metadata": {},
   "outputs": [],
   "source": [
    "# Initialize an integer variable and add 22 \n",
    "new_integer_variable = 5\n",
    "new_integer_variable + 22"
   ]
  },
  {
   "cell_type": "markdown",
   "metadata": {},
   "source": [
    "The value of a variable can be overwritten with a new value."
   ]
  },
  {
   "cell_type": "markdown",
   "metadata": {},
   "source": [
    "You can create a variable with almost any name, but there are a few guidelines that are recommended.\n",
    "\n",
    "### Variable Names Should be Descriptive\n",
    "\n",
    "If we create a variable that stores the day of the month, it is helpful to give it a name that makes the value stored inside it clear like `day_of_month`. From a logical perspective, we could call the variable almost anything (`hotdog`, `rabbit`, `flat_tire`). As long as we are consistent, the code will execute the same. When it comes time to read, modify, and understand the code, however, it will be confusing to you and others. Consider this simple program that lets us change the `days` variable to compute the number of seconds in that many days."
   ]
  },
  {
   "cell_type": "markdown",
   "metadata": {},
   "source": [
    "As code gets longer and more complex, having clear variable names and explanatory comments is very important.\n",
    "\n",
    "In addition to being descriptive, variable names must follow 3 basic rules:\n",
    "\n",
    "1. Must be one word (no spaces allowed)\n",
    "2. Only letters, numbers and the underscore character (\\_)\n",
    "3. Cannot begin with a number"
   ]
  },
  {
   "cell_type": "markdown",
   "metadata": {
    "toc-hr-collapsed": true,
    "toc-nb-collapsed": true
   },
   "source": [
    "## The `print()` and `input()` Functions\n",
    "\n",
    "Many different kinds of programs often need to do very similar operations. Instead of writing the same code over again, you can use a [function](https://www.geeksforgeeks.org/python/python-functions/). Essentially, a function is a small snippet of code that can be quickly referenced. There are three kinds of functions:\n",
    "\n",
    "* Native functions built into Python\n",
    "* Functions others have written that you can import\n",
    "* Functions you write yourself\n",
    "\n",
    "For now, let's look at a few of the native functions. One of the most common functions used in Python is the `print()` [function](https://www.geeksforgeeks.org/python/python-output-using-print-function/) which simply prints a string."
   ]
  },
  {
   "cell_type": "code",
   "execution_count": 4,
   "metadata": {},
   "outputs": [
    {
     "name": "stdout",
     "output_type": "stream",
     "text": [
      "Hello World!\n"
     ]
    }
   ],
   "source": [
    "# A print function that prints: Hello World!\n",
    "print('Hello World!')"
   ]
  },
  {
   "cell_type": "markdown",
   "metadata": {},
   "source": [
    "We could also define a variable with our string ```'Hello World!'``` and then pass that variable into the `print()` function. It is common for functions to take an input, called an argument, that is placed inside the parentheses ()."
   ]
  },
  {
   "cell_type": "code",
   "execution_count": 5,
   "metadata": {},
   "outputs": [
    {
     "name": "stdout",
     "output_type": "stream",
     "text": [
      "Hello World!\n"
     ]
    }
   ],
   "source": [
    "# Define a string and then print it\n",
    "our_string = 'Hello World!'\n",
    "print(our_string)"
   ]
  },
  {
   "cell_type": "markdown",
   "metadata": {},
   "source": [
    "There is also an `input()` function for taking user input."
   ]
  },
  {
   "cell_type": "code",
   "execution_count": null,
   "metadata": {},
   "outputs": [
    {
     "name": "stdout",
     "output_type": "stream",
     "text": [
      "Hi. What is your name?\n"
     ]
    }
   ],
   "source": [
    "# A program to greet the user by name\n",
    "print('Hi. What is your name?') # Ask the user for their name\n",
    "user_name = input() # Take the user's input and put it into the variable user_name\n",
    "print('Pleased to meet you, ' + user_name) # Print a greeting with the user's name"
   ]
  },
  {
   "cell_type": "markdown",
   "metadata": {},
   "source": [
    "We defined a string variable ```user_name``` to hold the user's input. We then called the `print()` function to print the [concatenation](https://www.geeksforgeeks.org/python/python-string-concatenation/) of 'Pleased to meet you, ' and the user's input that was captured in the variable ```user_name```. Remember that we can use a ```+``` to concatenate, meaning join these strings together.\n",
    "\n",
    "Here are couple more tricks we can use. You can pass a string variable into the `input` function for a prompt and you can use an `f string` to add the variable into the print string without use the `+` operator to concatenate both strings."
   ]
  },
  {
   "cell_type": "code",
   "execution_count": null,
   "metadata": {},
   "outputs": [],
   "source": [
    "# A program to greet the user by name\n",
    "# Passing the prompt into the input() function\n",
    "# prints it automatically before taking the input\n",
    "user_name = input('Hi. What is your name? ')"
   ]
  },
  {
   "cell_type": "markdown",
   "metadata": {},
   "source": [
    "An `f string` starts with a letter f and can automatically concatenate variables enclosed in curly braces, like `{variable_name}`."
   ]
  },
  {
   "cell_type": "code",
   "execution_count": 7,
   "metadata": {},
   "outputs": [
    {
     "name": "stdout",
     "output_type": "stream",
     "text": [
      "Pleased to meet you, ri\n"
     ]
    }
   ],
   "source": [
    "# Using an f string to automatically concatenate\n",
    "# Without using the plus (+) operator\n",
    "print(f'Pleased to meet you, {user_name}')"
   ]
  },
  {
   "cell_type": "markdown",
   "metadata": {},
   "source": [
    "We can concatenate many strings together, but we cannot concatenate strings with integers or floats."
   ]
  },
  {
   "cell_type": "code",
   "execution_count": 8,
   "metadata": {},
   "outputs": [
    {
     "name": "stdout",
     "output_type": "stream",
     "text": [
      "Hello, all these strings are being connected together.\n"
     ]
    }
   ],
   "source": [
    "# Concatenating many strings within a print function\n",
    "print('Hello, ' + 'all ' + 'these ' + 'strings ' + 'are ' + 'being ' + 'connected ' + 'together.')"
   ]
  },
  {
   "cell_type": "markdown",
   "metadata": {},
   "source": [
    "## The `str()`, `int()`, and `float()` functions\n",
    "\n",
    "We can transform one variable type into another variable type with the `str()`, `int()`, and `float()` functions. "
   ]
  },
  {
   "cell_type": "code",
   "execution_count": 11,
   "metadata": {},
   "outputs": [
    {
     "name": "stdout",
     "output_type": "stream",
     "text": [
      "There are 7 continents.\n"
     ]
    }
   ],
   "source": [
    "# Converting an integer into a string\n",
    "print('There are ' + str(7) + ' continents.')"
   ]
  },
  {
   "cell_type": "markdown",
   "metadata": {},
   "source": [
    "*from* [Python Basics 2](https://southernmethodistuniversity.github.io/intro-to-python/python-basics-2.html)\n",
    "\n",
    "# [Flow Control statements](https://www.geeksforgeeks.org/computer-science-fundamentals/control-flow-statements-in-programming/)\n",
    "\n",
    "* [Boolean Data Type](https://www.geeksforgeeks.org/python/boolean-data-type/)\n",
    "    * [Boolean values](https://www.w3schools.com/python/python_booleans.asp)\n",
    "    * [Boolean operators](https://www.w3schools.com/python/python_operators.asp)\n",
    "* [Comparison operators](https://www.geeksforgeeks.org/python/relational-operators-in-python/)\n",
    "* `if` statements\n",
    "* `else` statements\n",
    "* `elif` statements\n",
    "* `while` and `for` loop statements\n",
    "* Handling errors with `try` and `except`\n",
    "\n",
    "- [Python Libraries](https://www.geeksforgeeks.org/python/libraries-in-python/) \n",
    "- Used in this section: [`random` to generate random numbers](https://www.geeksforgeeks.org/python/python-random-module/)\n",
    "\n",
    "___"
   ]
  },
  {
   "cell_type": "markdown",
   "metadata": {},
   "source": [
    "## Flow Control Statements\n",
    "\n",
    "To write programs that can do multiple tasks you'll need a way for your programs to decide which action comes next. We can control when (or if) code gets executed with [flow control statements](https://www.geeksforgeeks.org/computer-science-fundamentals/control-flow-statements-in-programming/). If a program is a set of steps for accomplishing a task, then flow control statements help the program decide the next action.\n",
    "\n",
    "Flow control statements work like a flowchart. For example, let's say your goal is to hang out and relax with friends. There are a number of steps you might take, depending on whether your friends are available or you feel like making some new friends.\n",
    "\n",
    "![Flowchart to hangout with friends](https://raw.githubusercontent.com/SouthernMethodistUniversity/intro-to-python/main/images/images/friends_flowchart.png)\n",
    "\n",
    "Each diamond in our flowchart represents a decision that has to be made about the best step to take next. This is the essence of flow control statements. They help a program decide what the next step should be given the current circumstances."
   ]
  },
  {
   "cell_type": "markdown",
   "metadata": {},
   "source": [
    "### Boolean Values\n",
    "\n",
    "One way we to create flow control statements is with boolean values that have two possible values: **True** or **False**. In our example above, we could consider a \"Yes\" to be \"True\" and a \"No\" to be \"False.\" When we have the data we need to answer each question, we could store that answer in a variable, like:\n",
    "\n",
    "* ```are_friends_available = False```\n",
    "* ```make_new_friends = True```\n",
    "* ```new_friend_available = True```\n",
    "\n",
    "This would allow us to determine which action to take next. When we assign boolean values to a variable, the first letter must be capitalized:"
   ]
  },
  {
   "cell_type": "markdown",
   "metadata": {},
   "source": [
    "### Comparison Operators\n",
    "Now that we have a way to store integers, floats, strings, and boolean values in variables, we can use a [comparison operator](https://www.geeksforgeeks.org/cpp/comparison-operators-in-programming/) to help make decisions based on those values. We use the [comparison operator](https://www.geeksforgeeks.org/python/relational-operators-in-python/) `==` in *Python Basics 1*. This operator asks whether two expressionsare equal to each other."
   ]
  },
  {
   "cell_type": "markdown",
   "metadata": {},
   "source": [
    "There are additional comparison operators that can help us with flow control statements.\n",
    "\n",
    "|Operator|Meaning|\n",
    "|---|---|\n",
    "|==|Equal to|\n",
    "|!=|Not equal to|\n",
    "|<|Less than|\n",
    "|>|Greater than|\n",
    "|<=|Less than or equal to|\n",
    "|>=|Greater than or equal to|"
   ]
  },
  {
   "cell_type": "markdown",
   "metadata": {},
   "source": [
    "A string cannot be equal to a float or an integer. But an integer can be equal to a float. We can use the comparison operator with variables"
   ]
  },
  {
   "cell_type": "markdown",
   "metadata": {},
   "source": [
    "### Boolean Operators (and/or/not)\n",
    "We can also use Boolean operators) (**and**/**or**/**not**) to create expressions that evaluate to a single Boolean value (**True**/**False**).\n",
    "\n",
    "#### Using the Boolean Operator `and`\n",
    "The `and` operator determines whether *both* conditions are **True**."
   ]
  },
  {
   "cell_type": "code",
   "execution_count": null,
   "metadata": {},
   "outputs": [],
   "source": [
    "# If condition one is True AND condition two is True\n",
    "# What will the evaluation be?\n",
    "True and True"
   ]
  },
  {
   "cell_type": "code",
   "execution_count": null,
   "metadata": {},
   "outputs": [],
   "source": [
    "# If condition one is True AND condition two is False\n",
    "# What will the evaluation be?\n",
    "True and False"
   ]
  },
  {
   "cell_type": "markdown",
   "metadata": {},
   "source": [
    "In order for an ```and``` expression to evaluate to **True**, every condition must be **True**. Here is the \"Truth Table\" for every pair:\n",
    "\n",
    "|Expression|Evaluation|\n",
    "|---|---|\n",
    "|True and True|True|\n",
    "|True and False|False|\n",
    "|False and True|False|\n",
    "|False and False|False|\n",
    "\n",
    "Since `and` expressions require all conditions to be **True**, they can easily result in **False** evaluations.\n",
    "\n",
    "#### Using the Boolean Operator ```or```\n",
    "The ```or``` operator determines whether *any* condition is **True**."
   ]
  },
  {
   "cell_type": "markdown",
   "metadata": {},
   "source": [
    "An ```or``` expression evaluates to **True** if *any* condition is **True**. Here is the \"Truth Table\" for every pair:\n",
    "\n",
    "|Expression|Evaluation|\n",
    "|---|---|\n",
    "|True or True|True|\n",
    "|True or False|True|\n",
    "|False or True|True|\n",
    "|False or False|False|\n",
    "\n",
    "Since ```or``` expressions only require a single condition to be **True**, they can easily result in **True** evaluations.\n",
    "\n",
    "#### Using the Boolean Operator ```not```\n",
    "The```not``` operator only operates on a single expression, essentially flipping **True** to **False** or **False** to **True**. "
   ]
  },
  {
   "cell_type": "markdown",
   "metadata": {},
   "source": [
    "#### Combining Boolean and Comparison Operators\n",
    "\n",
    "We can combine Boolean operators and comparison operators to create even more nuanced **Truth** tests."
   ]
  },
  {
   "cell_type": "markdown",
   "metadata": {},
   "source": [
    "So far, we have evaluated one or two conditions at once, but we could compare even more at once. (In practice, this is  rare since it creates code that can be difficult to read.) Boolean operators also have an order of operations like mathematical operators. They resolve in the order of `not`, `and`, then `or`."
   ]
  },
  {
   "cell_type": "markdown",
   "metadata": {},
   "source": [
    "## Writing a Flow Control Statement\n",
    "\n",
    "The general form of a flow control statement in Python is a condition followed by an action clause:\n",
    "\n",
    "`In this condition:`<br />\n",
    "&nbsp; &nbsp; &nbsp; &nbsp;`perform this action`\n",
    "\n",
    "Let's return to part of our flowchart for hanging out with friends.\n",
    "\n",
    "![Flowchart showing if homework is yes then do assignment](https://raw.githubusercontent.com/SouthernMethodistUniversity/intro-to-python/main/images/do_homework_chart.png)\n",
    "\n",
    "We can imagine a flow control statement that would look something like:\n",
    "\n",
    "`if have_homework == True:`<br />\n",
    "&nbsp; &nbsp; &nbsp; &nbsp; `complete assignment`\n",
    "    \n",
    "The condition is given followed by a colon (:). The action clause then follows on the next line, [indented into a code block](https://www.geeksforgeeks.org/python/indentation-in-python/).\n",
    "\n",
    "* If the condition is fulfilled (evaluates to **True**), the action clause in the block of code is executed. \n",
    "* If the condition is not fulfilled (evaluates to **False**), the action clause in the block of code is skipped over."
   ]
  },
  {
   "cell_type": "markdown",
   "metadata": {},
   "source": [
    "### Code Blocks\n",
    "A code block is a snippet of code that begins with an indentation. A code block can be a single line or many lines long. Blocks can contain other blocks forming a hierarchal structure. In such a case, the second block is indented an additional degree. Any given block ends when the number of indentations in the current line is less than the number that started the block.\n",
    "\n",
    "![Visualization of code block indentations](https://raw.githubusercontent.com/SouthernMethodistUniversity/intro-to-python/main/images/code_block_indentation.png)\n",
    "\n",
    "Since the level of indentation describes which code block will be executed, improper indentations will make your code crash. When using indentations to create code blocks, look carefully to make sure you are working in the code block you intend. Each indentation for a code block is created by pressing the tab key."
   ]
  },
  {
   "cell_type": "markdown",
   "metadata": {},
   "source": [
    "## Types of Flow Control Statements\n",
    "\n",
    "The code example above uses an `if` statement, but there are other kinds of flow control statements available in Python.\n",
    "\n",
    "|Statement|Means|Condition for execution|\n",
    "|---|---|---|\n",
    "|`if`|if|if the condition is fulfilled|\n",
    "|`elif`|else if|if no previous conditions were met *and* this condition is met|\n",
    "|`else`|else|if no condition is met (no condition is supplied for an `else` statement)|\n",
    "|`while`|while|while condition is true|\n",
    "|`for`|for|execute in a loop for this many times|\n",
    "|`try`|try|try this and run the `except` code if an error occurs|\n",
    "\n",
    "Let's take a look at each of these flow control statement types."
   ]
  },
  {
   "cell_type": "markdown",
   "metadata": {},
   "source": [
    "Our program works fairly well so long as the user inputs 'Yes' or 'yes'. If they type 'no' or something else, it simply ends. If we want to have our program still respond, we can use an `else` statement."
   ]
  },
  {
   "cell_type": "markdown",
   "metadata": {},
   "source": [
    "### `else` Statements\n",
    "\n",
    "An `else` statement *does not require a condition* to evaluate to **True** or **False**. It simply executes when none of the previous conditions are met. The form looks like this:\n",
    "\n",
    "`else:` <br />\n",
    "&nbsp; &nbsp; &nbsp; &nbsp; `perform this action`\n",
    "\n",
    "Our updated flowchart now contains a second branch for our program.\n",
    "\n",
    "![The program flowchart with two branches](https://raw.githubusercontent.com/SouthernMethodistUniversity/intro-to-python/main/images/good_day_flowchart2.png)\n",
    "    \n"
   ]
  },
  {
   "cell_type": "markdown",
   "metadata": {},
   "source": [
    "Our new program is more robust. The new `else` statement still gives the user a response if they do not respond \"Yes\" or \"yes\". But what if we wanted to add an option for when a user says \"No\"? Or when a user inputs something besides \"Yes\" or \"No\"? We could use a series of `elif` statements."
   ]
  },
  {
   "cell_type": "markdown",
   "metadata": {},
   "source": [
    "### `elif` Statements\n",
    "\n",
    "An `elif` statement, short for \"else if,\" allows us to create a list of possible conditions where one (and only one) action will be executed. `elif` statements come after an initial `if` statement and before an `else` statement:\n",
    "\n",
    "`if condition A is True:` <br />\n",
    "&nbsp; &nbsp; &nbsp; &nbsp; `perform action A` <br />\n",
    "`elif condition B is True:` <br />\n",
    "&nbsp; &nbsp; &nbsp; &nbsp; `perform action B` <br />\n",
    "`elif condition C is True:` <br />\n",
    "&nbsp; &nbsp; &nbsp; &nbsp; `perform action C` <br />\n",
    "`elif condition D is True:` <br />\n",
    "&nbsp; &nbsp; &nbsp; &nbsp; `perform action D` <br />\n",
    "`else:` <br />\n",
    "&nbsp; &nbsp; &nbsp; &nbsp;`perform action E`\n",
    "\n",
    "For example, we could add an `elif` statement to our program so it responds to both \"Yes\" and \"No\" with unique answers. We could then add an `else` statement that responds to any user input that is not \"Yes\" or \"No\".\n",
    "\n",
    "![Flowchart showing three branches](https://raw.githubusercontent.com/SouthernMethodistUniversity/intro-to-python/main/images/good_day_flowchart3.png)"
   ]
  },
  {
   "cell_type": "code",
   "execution_count": null,
   "metadata": {},
   "outputs": [],
   "source": [
    "# A program that responds to whether the user is having a good or bad day\n",
    "having_good_day = input('Are you having a good day? (Yes or No) ') # Define a variable having_good_day to hold the user's input\n",
    "\n",
    "if having_good_day == 'Yes' or having_good_day == 'yes': # If the user has input the string 'Yes' or 'yes'\n",
    "    print('Glad to hear your day is going well!') # Print: Glad to hear your day is going well!\n",
    "\n",
    "# Write an elif statement for having_good_day == 'No'\n",
    "\n",
    "\n",
    "# An else statement that catches if the answer is not 'yes' or 'no'\n",
    "else: # Execute this if none of the other branches executes\n",
    "    print('Sorry, I only understand \"Yes\" or \"No\"') # Note that we can use double quotations in our string because it begins and ends with single quotes"
   ]
  },
  {
   "cell_type": "markdown",
   "metadata": {},
   "source": [
    "### `while` Loop Statements\n",
    "\n",
    "So far, we have used flow control statements like decision-making branches to decide what action should be taken next. Sometimes, however, we want a particular action to loop (or repeat) until some condition is met. We can accomplish this with a `while` loop statement that takes the form:\n",
    "\n",
    "`while condition is True:` <br />\n",
    "&nbsp; &nbsp; &nbsp; &nbsp;`take this action`\n",
    "\n",
    "After the code block is executed, the program loops back to check and see if the `while` loop condition has changed from **True** to **False**. The code block stops looping when the condition becomes **False**.\n",
    "\n",
    "In the following program, the user will guess a number until they get it correct. \n",
    "\n",
    "![flowchart for number-guessing program](https://raw.githubusercontent.com/SouthernMethodistUniversity/intro-to-python/main/images/guess_number_flowchart.png)"
   ]
  },
  {
   "cell_type": "markdown",
   "metadata": {},
   "source": [
    "Try changing the variable name `i` to something else. What effect does that have on the program?"
   ]
  },
  {
   "cell_type": "markdown",
   "metadata": {},
   "source": [
    "*from* [Python Basics 3](https://southernmethodistuniversity.github.io/intro-to-python/python-basics-3.html)\n",
    "\n",
    "## [lists](https://www.geeksforgeeks.org/python/python-lists/) and [dictionaries](https://www.geeksforgeeks.org/python/python-dictionary/) \n",
    "\n",
    "-including:\n",
    "* [The `in` and `not in` operators](https://www.geeksforgeeks.org/python/python-membership-identity-operators-not-not/)\n",
    "* [Lists](https://www.geeksforgeeks.org/python/python-lists/) \n",
    "* [List methods (`index()`, `append()`, `insert()`, `sort()`)](https://www.geeksforgeeks.org/python/list-methods-python/)\n",
    "* [Dictionaries](https://www.geeksforgeeks.org/python/python-dictionary/)\n",
    "* [Dictionary methods (`update()`, `keys()`, `values()`, `items()`, `get()`)](https://www.geeksforgeeks.org/python/python-dictionary-methods/)\n",
    "* [Python - Key Value list pairings in Dictionary](https://www.geeksforgeeks.org/python/python-key-value-list-pairings-in-dictionary/)\n"
   ]
  },
  {
   "cell_type": "markdown",
   "metadata": {},
   "source": [
    "Lists and dictionaries help us store many values inside a single variable. This is helpful for a few reasons.\n",
    "\n",
    "   * We can store many items in a single list or dictionary, making it easier to keep the data together\n",
    "   * Lists and dictionaries only require a single assignment statement\n",
    "   * Lists and dictionaries have additional capabilities that will make organizing our data easier\n",
    "\n",
    "The fundamental difference between a list and a dictionary is that a list stores items in sequential order (starting from 0) while a dictionary stores items in [key/value pairs](https://www.indeed.com/career-advice/career-development/key-value-pair#:~:text=A%20key%2Dvalue%20pair%20is%20a%20data%20type%20that%20includes,belonging%20to%20the%20data%20set.). When we want to retrieve an item in a list, we use an index number or a [set of index numbers called a slice](https://www.geeksforgeeks.org/python/python-slice-function/) as a reference. When we want to retrieve an item from a dictionary, we supply a key that returns the value (or set of values) associated with that key. Each of these approaches can be beneficial depending on what kind of data we are working with (and what we intend to do with the data).\n"
   ]
  },
  {
   "cell_type": "markdown",
   "metadata": {},
   "source": [
    "## Lists\n",
    "\n",
    "A list can store anywhere from zero to millions of items. The items that can be stored in a list include the data types we have already learned: integers, floats, and strings. A list assignment statement takes the form. my_list = [item1, item2, item3, item4...]\n",
    "\n",
    "`my_list = [item1, item2, item3, item4...]`\n",
    "\n"
   ]
  },
  {
   "cell_type": "code",
   "execution_count": null,
   "metadata": {},
   "outputs": [],
   "source": [
    "# A list containing integers\n",
    "my_favorite_numbers = [7, 21, 100]\n",
    "print(my_favorite_numbers)"
   ]
  },
  {
   "cell_type": "code",
   "execution_count": null,
   "metadata": {},
   "outputs": [],
   "source": [
    "# A list containing strings\n",
    "my_inspirations = ['Harriet Tubman', 'Rosa Parks', 'Pauli Murray']\n",
    "print(my_inspirations)"
   ]
  },
  {
   "cell_type": "markdown",
   "metadata": {},
   "source": [
    "Both `my_favorite_numbers` and `my_inspirations` have three items, but we could have also initialized them with no items `my_favorite_numbers = []` or many more items. \n",
    "\n",
    "### List Index\n",
    "\n",
    "Each item has an [index number](https://www.geeksforgeeks.org/python/python-list-index/) that depends on their order. **The first item is 0, the second item is 1, the third item is 2, etc.** "
   ]
  },
  {
   "cell_type": "markdown",
   "metadata": {},
   "source": [
    "Lists can also contain other lists. To retrieve a value from a list within a list, we use two indexes (or indices).\n"
   ]
  },
  {
   "cell_type": "markdown",
   "metadata": {},
   "source": [
    "We can also select items from a list beginning from the end/right side of a list by using negative index numbers.\n"
   ]
  },
  {
   "cell_type": "markdown",
   "metadata": {},
   "source": [
    "It is not uncommon for lists to be hundreds or thousands of items long. It would be a chore to count all those items to create a slice. If you want to know the length of a list, you can use the [len() function.](https://www.geeksforgeeks.org/python/python-len-function/)\n"
   ]
  },
  {
   "cell_type": "markdown",
   "metadata": {},
   "source": [
    "### Slicing a list\n",
    "\n",
    "We can also retrieve a group of consecutive items from a list using slices instead of a single index number. We create a slice by indicating a starting and ending index number. The slice is a smaller list containing all the items between our starting and stopping index number.\n"
   ]
  },
  {
   "cell_type": "markdown",
   "metadata": {},
   "source": [
    "Notice in our slice that the second index in a slice is the stopping point. That is our return list contains `staff[1]` (`'Brianna Barton'`) and `staff[2]` (`'Carla Cameron'`), but it does not include `staff[3]` (`'Delia Darcy'`). This can be confusing if you were expecting three items instead of two. One way to remember this is by subtracting the indexes in your head (3 - 1 = 2 items)."
   ]
  },
  {
   "cell_type": "markdown",
   "metadata": {},
   "source": [
    "The `staff` list is 7 items long, meaning the whole list is within the slice `staff[0:7]`. When we take a slice of a list we can also leave out the first index number (0 is assumed) or the stopping index number (the last item is assumed)."
   ]
  },
  {
   "cell_type": "markdown",
   "metadata": {},
   "source": [
    "### The `in` and `not in` Operators\n",
    "\n",
    "If we have a long list, it may be helpful to check whether a value is in the list. We can do this with the `in` and `not in` operators, which return a boolean value: **True** or **False**."
   ]
  },
  {
   "cell_type": "markdown",
   "metadata": {},
   "source": [
    "We can change the value of any item in a list using an [assignment statement](https://www.geeksforgeeks.org/python/different-forms-of-assignment-statements-in-python/) that contains the item's index number."
   ]
  },
  {
   "cell_type": "markdown",
   "metadata": {},
   "source": [
    "## List Methods\n",
    "\n",
    "A [method is a kind of function.](https://www.geeksforgeeks.org/python/difference-method-function-python/) (Remember, functions end in parentheses.) Methods, however, act on objects (like lists) so they have a slightly different written form. We will take a look at five useful methods for working with lists.\n",
    "\n",
    "|Method Name | Purpose | Form |\n",
    "|---|---|---|\n",
    "|index()| search for an item in a list and return the index number | list_name.index(item_name)|\n",
    "|append()| add an item to the end of a list | list_name.append(item_name)|\n",
    "|insert()| insert an item in the middle of a list | list_name.insert(index_number, item_name)|\n",
    "|remove()| remove an item from a list based on value | list_name.remove('item_value')|\n",
    "|sort()| sort the order of a list | list_name.sort()|\n",
    "\n",
    "### The `index()` Method\n",
    "\n",
    "The `index()` [method](https://www.geeksforgeeks.org/python/python-list-index/) checks to see if a value is in a list. If the value is found, it returns the index number for the first item with that value. (Keep in mind, there could be multiple items with a single value in a list). If the value is not found, the `index()` method returns a `ValueError`."
   ]
  },
  {
   "cell_type": "markdown",
   "metadata": {},
   "source": [
    "Lists can contain multiple identical items. If there are multiple identical items, we need to use some flow control to return all the indices. The `enumerate()` function allows us to keep track of the `index` and `element` at the same time. Notice that this `for` loop defines two variables. The first variable keeps track of the current index number in the loop, the second variable keeps track of the value for the current element."
   ]
  },
  {
   "cell_type": "markdown",
   "metadata": {},
   "source": [
    "### The `append()` Method\n",
    "\n",
    "The `append()` [method](https://www.geeksforgeeks.org/python/python-list-append-method/) adds a value to the end of a list."
   ]
  },
  {
   "cell_type": "markdown",
   "metadata": {},
   "source": [
    "We can also add an item to the end of a [list](https://constellate.org/docs/key-terms/#list) by using an [assignment statement](https://constellate.org/docs/key-terms/#assignment-statement)."
   ]
  },
  {
   "cell_type": "markdown",
   "metadata": {},
   "source": [
    "### The `insert()` Method\n",
    "\n",
    "The `insert()` [method](https://www.geeksforgeeks.org/python/python-list-insert/) is similar to [`append()`](https://www.geeksforgeeks.org/python/python-list-append-method/) but it takes an [argument](https://www.w3schools.com/python/gloss_python_function_arguments.asp) that lets us choose an index number to insert the new item."
   ]
  },
  {
   "cell_type": "markdown",
   "metadata": {},
   "source": [
    "### The `remove()` Method\n",
    "\n",
    "The `remove()` [method](https://www.geeksforgeeks.org/python/python-list-remove/) removes the first item from the list that has a matching value."
   ]
  },
  {
   "cell_type": "markdown",
   "metadata": {},
   "source": [
    "Like the `.index()` method, the `.remove()` only works on the first item it finds in the list. If there are repeating items on the list, you can use some flow control to make sure you remove them all."
   ]
  },
  {
   "cell_type": "markdown",
   "metadata": {},
   "source": [
    "If you know the value you wish to remove then the `remove()` method is the best option. If you know the index number of the item, you can use a `del` statement to delete list items."
   ]
  },
  {
   "cell_type": "markdown",
   "metadata": {},
   "source": [
    "### The `sort()` Method\n",
    "\n",
    "The `sort()` [method](https://www.geeksforgeeks.org/python/sort-in-python/) sorts a list in alphabetical order, where strings with capital letters are sorted A-Z, then strings with lowercase letters are sorted A-Z."
   ]
  },
  {
   "cell_type": "markdown",
   "metadata": {},
   "source": [
    "### Iterate through a list with a `for` loop\n",
    "We can use a `for` loop to iterate through all the items in a list. The `for` loop will *create* a new temporary variable to store the current item in the list (no assignment statement required). "
   ]
  },
  {
   "cell_type": "markdown",
   "metadata": {},
   "source": [
    "## Dictionaries\n",
    "\n",
    "Like a list, a dictionary can hold many values within a single variable. We have seen that the items of a list are stored in a strictly-ordered fashion, starting from item 0. In a dictionary, each value is stored in relation to a descriptive key forming a key/value pair. Technically, as of Python 3.7 (June 2018), dictionaries are also ordered by insertion. In practice, however, the most useful aspect of a dictionary is the ability to supply a key and receive a value without reference to indices. Whereas a list is typed with brackets `[]`, a dictionary is typed with braces `{}`. The key and/or value can be an integer, float, or string.\n",
    "\n",
    "`example_dictionary = {key1 : value1, key2 : value2, key3 : value3}`\n"
   ]
  },
  {
   "cell_type": "code",
   "execution_count": null,
   "metadata": {},
   "outputs": [],
   "source": [
    "# An example of a dictionary storing names and occupations\n",
    "contacts ={\n",
    " 'Amanda Bennett': 'Engineer, electrical',\n",
    " 'Bryan Miller': 'Radiation protection practitioner',\n",
    " 'Christopher Garrison': 'Planning and development surveyor',\n",
    " 'Debra Allen': 'Intelligence analyst',\n",
    " 'Donna Decker': 'Architect',\n",
    " 'Heather Bullock': 'Media planner',\n",
    " 'Jason Brown': 'Energy manager',\n",
    " 'Jason Soto': 'Lighting technician, broadcasting/film/video',\n",
    " 'Marissa Munoz': 'Further education lecturer',\n",
    " 'Matthew Mccall': 'Chief Technology Officer',\n",
    " 'Michael Norman': 'Translator',\n",
    " 'Nicole Leblanc': 'Financial controller',\n",
    " 'Noah Delgado': 'Engineer, land',\n",
    " 'Rachel Charles': 'Physicist, medical',\n",
    " 'Stephanie Petty': 'Architect'}\n",
    "from pprint import pprint # We import the pretty print function which prints out dictionaries in a neater fashion than the built-in print() function\n",
    "pprint(contacts) # Use the pretty print function to print `contacts`"
   ]
  },
  {
   "cell_type": "markdown",
   "metadata": {},
   "source": [
    "We can add a new key/value pair to our dictionary using an [assignment statement](https://www.geeksforgeeks.org/python/different-forms-of-assignment-statements-in-python/).\n"
   ]
  },
  {
   "cell_type": "code",
   "execution_count": null,
   "metadata": {},
   "outputs": [],
   "source": [
    "# Adding the key 'Mirza, Rafia' with the value 'Digital Scholarship Librarian' to the dictionary contact\n",
    "contacts['Rafia Mirza'] = 'Digital Scholarship Librarian'\n",
    "\n",
    "pprint(contacts) # Use the pretty print function to print `contacts`"
   ]
  },
  {
   "cell_type": "markdown",
   "metadata": {},
   "source": [
    "Similar to deleting an item from a [list](https://constellate.org/docs/key-terms/#list), we can use a `del` statement to delete a [key/value pair](https://constellate.org/docs/key-terms/#key-value-pair). We do not need to worry about duplicates because every key in a dictionary must be unique."
   ]
  },
  {
   "cell_type": "markdown",
   "metadata": {},
   "source": [
    "## Dictionary Methods\n",
    "\n",
    "We'll take a look at five useful methods for working with dictionaries: `update()`, `keys()`, `values()`, `items()`, and `get()`.\n",
    "\n",
    "|Method Name | Purpose | Form |\n",
    "|---|---|---|\n",
    "|update()| add new key/value pairs to a dictionary | dict_name.update({key1:value1, key2:value2})|\n",
    "| &nbsp; | combine two dictionaries |dict_name.update(dict_name2)|\n",
    "|keys()| check if a key is in a dictionary (True/False) | key_name in dict_name.keys()|\n",
    "| &nbsp; | Loop through the keys in a dictionary | for k in dict.keys():|\n",
    "|values()| check if a value is in a dictionary (True/False) | value_name in dict_name.values()|\n",
    "| &nbsp;| Loop through the values in a dictionary | for v in dict.values():|\n",
    "|items()| Loop through the keys and values in a dictionary | for k, v in dict.items():|\n",
    "|get()| retrieve the value for a specific key | dict_name.get(key_name) |"
   ]
  },
  {
   "cell_type": "markdown",
   "metadata": {},
   "source": [
    "### The `update()` Method\n",
    "\n",
    "The `update()` [method](https://www.geeksforgeeks.org/python/python-dictionary-update-method/) is useful for adding many [key/value pairs](https://experienceleague.adobe.com/en/docs/audience-manager/user-guide/reference/key-value-pairs-explained) to a dictionary at once. The `update()` [method](https://constellate.org/docs/key-terms/#method) accepts a single key/value pair, multiple pairs, or even other dictionaries."
   ]
  },
  {
   "cell_type": "code",
   "execution_count": null,
   "metadata": {},
   "outputs": [],
   "source": [
    "# Add a single key/value pair to the dictionary contacts using the update() method\n",
    "contacts.update(\n",
    "    {'Rafia Mirza'': 'Digital Scholarship Librarian'}\n",
    ")\n",
    "\n",
    "pprint(contacts) # Use the pretty print function to print `contacts`\n"
   ]
  },
  {
   "cell_type": "code",
   "execution_count": null,
   "metadata": {},
   "outputs": [],
   "source": [
    "# Adding several key/value pairs to the dictionary contacts using the update() method\n",
    "contacts.update(\n",
    "    {\"Matt Lincoln\": \"Software Engineer\",\n",
    "     'Ian DesJardins': 'Software Engineer',\n",
    "    'Zhuo Chen': 'Text Analysis Instructor'}\n",
    ")\n",
    "\n",
    "pprint(contacts) # Use the pretty print function to print `contacts`"
   ]
  },
  {
   "cell_type": "markdown",
   "metadata": {},
   "source": [
    "### The `keys()` and `values()` Methods\n",
    "\n",
    "The `keys()`, `values()`, and `items()` methods are useful for when checking whether a particular key or value exists in a dictionary. We can pair them with `in` or `not in` operators to check whether a value is in our dictionary (just like we did with lists)."
   ]
  },
  {
   "cell_type": "code",
   "execution_count": null,
   "metadata": {},
   "outputs": [],
   "source": [
    "# Checking if a key is in the contacts dictionary\n",
    "# Do I know a Noah Delgado?\n",
    "'Noah Delgado' in contacts.keys()"
   ]
  },
  {
   "cell_type": "code",
   "execution_count": null,
   "metadata": {},
   "outputs": [],
   "source": [
    "# Checking if a value is in the contacts dictionary\n",
    "# Do I know an Architect?\n",
    "'Architect' in contacts.values()"
   ]
  },
  {
   "cell_type": "markdown",
   "metadata": {},
   "source": [
    "### The `get()` Method\n",
    "\n",
    "If we are sure a key exists, we can return the corresponding value using:\n",
    "\n",
    "`dict_name[key_name]` "
   ]
  },
  {
   "cell_type": "code",
   "execution_count": null,
   "metadata": {},
   "outputs": [],
   "source": [
    "# Return a value for a particular key\n",
    "contacts['Noah Delgado']"
   ]
  },
  {
   "cell_type": "markdown",
   "metadata": {},
   "source": [
    "However, if the key](https://constellate.org/docs/key-terms/#key-value-pair) is not found, the result will be a `KeyError`. "
   ]
  },
  {
   "cell_type": "code",
   "execution_count": null,
   "metadata": {},
   "outputs": [],
   "source": [
    "# Asking for a key that does not exist\n",
    "contacts['Mickey Mouse']"
   ]
  },
  {
   "cell_type": "markdown",
   "metadata": {},
   "source": [
    "The more robust approach is to use the `get()` [method](https://www.geeksforgeeks.org/python/python-dictionary-get-method/). If the key is not found, the `None` value will be returned. (Optionally, we can also specify a default message to return.)\n",
    "\n",
    "`dict_name.get('key_name', 'key_not_found_message')`"
   ]
  },
  {
   "cell_type": "code",
   "execution_count": null,
   "metadata": {},
   "outputs": [],
   "source": [
    "# Using the get() method to retrieve the value for the key 'Marissa Munoz'\n",
    "contacts.get('Marissa Munoz')"
   ]
  },
  {
   "cell_type": "markdown",
   "metadata": {},
   "source": [
    "### Combining `keys()`, `values()`, and `items()` with Flow Control Statements\n",
    "\n",
    "It is often usful to combine `for` loops with the keys(), values(), or items() methods to repeat a task for each entry in a dictionary. We have the following options:\n",
    "\n",
    "* `.keys()` iterates through only the dictionary keys\n",
    "* `.values()` iterates through only the dictionary values\n",
    "* `.items()` iterates through the keys *and* values\n",
    "\n",
    "Just like a list `for` loop, a temporary variable will be created based on whatever name comes after `for`."
   ]
  },
  {
   "cell_type": "code",
   "execution_count": null,
   "metadata": {},
   "outputs": [],
   "source": [
    "# Print every key in our contacts dictionary\n",
    "for name in contacts.keys(): # The variable `name` could be any variable name we choose\n",
    "    print(name)"
   ]
  },
  {
   "cell_type": "code",
   "execution_count": null,
   "metadata": {},
   "outputs": [],
   "source": [
    "# Print every value in our contacts dictionary\n",
    "for occupation in contacts.values(): # The variable `occupation` here could be any variable name we choose\n",
    "    print(occupation)"
   ]
  },
  {
   "cell_type": "markdown",
   "metadata": {},
   "source": [
    "If we use the `.items()` method, we need to define *two* variable names. It is valid Python to define two variables at once."
   ]
  },
  {
   "cell_type": "code",
   "execution_count": null,
   "metadata": {},
   "outputs": [],
   "source": [
    "# Define two variables at once in Python and assign two strings\n",
    "word1, word2 = 'Python', 'Basics'\n",
    "\n",
    "# Verify the variables have been properly assigned\n",
    "print(word1)\n",
    "print(word2)"
   ]
  },
  {
   "cell_type": "code",
   "execution_count": null,
   "metadata": {},
   "outputs": [],
   "source": [
    "# Print every key and value in our contacts dictionary\n",
    "for name, occupation in contacts.items():\n",
    "    print(f'{name} has the job: {occupation}')"
   ]
  },
  {
   "cell_type": "markdown",
   "metadata": {},
   "source": [
    "*from* [Python Basics 4](https://southernmethodistuniversity.github.io/intro-to-python/python-basics-4.html)\n",
    "\n",
    "# Functions \n",
    "- To write your own functions use:\n",
    "\n",
    "* [`def` statements](https://www.geeksforgeeks.org/python/python-def-keyword/)\n",
    "* [Local scope](https://www.geeksforgeeks.org/python/global-local-variables-python/)\n",
    "* [Global scope](https://www.geeksforgeeks.org/python/global-local-variables-python/)\n",
    "\n",
    "This section concludes with a description of popular Python packages.\n",
    "\n",
    "**[Python Libraries](https://www.geeksforgeeks.org/python/libraries-in-python/)Used:**\n",
    "- [`random` to generate random numbers](https://www.geeksforgeeks.org/python/python-random-module/)\n",
    "- [`time` to put make the computer wait a few seconds](https://www.geeksforgeeks.org/python/python-time-module/\n",
    "\n",
    "___"
   ]
  },
  {
   "cell_type": "markdown",
   "metadata": {},
   "source": [
    "## Functions\n",
    "\n",
    "We have used several Python functions already, including `print()`, `input()`, and `range()`. You can identify a function by the fact that it ends with a set of parentheses () where arguments can be **passed** into the function. Depending on the function (and your goals for using it), a function may accept no arguments, a single argument, or many arguments. For example, when we use the `print()` function, a string (or a variable containing a string) is passed as an argument.\n",
    "\n",
    "Functions are a convenient shorthand, like a mini-program, that makes our code more **modular**. We don't need to know all the details of how the `print()` function works in order to use it. Functions are sometimes called \"black boxes\", in that we can put an argument into the box and a **return value** comes out. We don't need to know the inner details of the \"black box\" to use it. (Of course, as you advance your programming skills, you may become curious about how certain functions work. And if you work with sensitive data, you may *need* to peer in the black box to ensure the security and accuracy of the output.)\n",
    "\n",
    "\n",
    "### Libraries and Modules\n",
    "While Python comes with many functions, there are thousands more that others have written. Adding them all to Python would create mass confusion, since many people could use the same name for functions that do different things. The solution then is that functions are stored in modules that can be **imported** for use. A module is a Python file (extension \".py\") that contains the definitions for the functions written in Python. These modules (individual Python files) can then be collected into even larger groups called [packages](https://www.geeksforgeeks.org/python/python-packages/) and [libraries](https://www.geeksforgeeks.org/python/libraries-in-python/). Depending on how many functions you need for the program you are writing, you may import a single module, a package of modules, or a whole library.\n",
    "\n",
    "The general form of [importing a module](https://www.geeksforgeeks.org/python/import-module-python/) is:\n",
    "`import module_name`\n",
    "\n",
    "You may recall from an eariler lesson, we imported the `time` module and used the `sleep()` function to wait 5 seconds."
   ]
  },
  {
   "cell_type": "code",
   "execution_count": null,
   "metadata": {},
   "outputs": [],
   "source": [
    "# A program that waits five seconds then prints \"Done\"\n",
    "\n",
    "import time # We import all the functions in the `time` module\n",
    "\n",
    "print('Waiting 5 seconds...')\n",
    "time.sleep(5) # We run the sleep() function from the time module using `time.sleep()`\n",
    "print('Done')"
   ]
  },
  {
   "cell_type": "markdown",
   "metadata": {},
   "source": [
    "We can also just import the `sleep()` function without importing the whole `time` module. The syntax is:\n",
    "\n",
    "`from module import function`"
   ]
  },
  {
   "cell_type": "code",
   "execution_count": null,
   "metadata": {},
   "outputs": [],
   "source": [
    "# A program that waits five seconds then prints \"Done\"\n",
    "\n",
    "from time import sleep # We import just the sleep() function from the time module\n",
    "\n",
    "\n",
    "print('Waiting 5 seconds...')\n",
    "\n",
    "sleep(5) # Notice that we just call the sleep() function, not time.sleep()\n",
    "print('Done')"
   ]
  },
  {
   "cell_type": "markdown",
   "metadata": {},
   "source": [
    "## Writing a Function\n",
    "\n",
    "In the above examples, we **called** a function that was already written. However, we can also create our own functions!\n",
    "\n",
    "The first step is to define the function before we call it. We use a **function definition statement** followed by a function description and a code block containing the function's actions:\n",
    "\n",
    "```\n",
    "def my_function():\n",
    "    \"\"\"Description of what the functions does\"\"\"\n",
    "    python code to be executed\n",
    "```\n",
    "\n",
    "\n",
    "After the function is defined, we can **call** on it to do us a favor whenever we need by simply executing the function like so:\n",
    "\n",
    "`my_function()`\n",
    "\n",
    "After the function is defined, we can call it as many times as we want without having to rewrite its code. In the example below, we create a function called `complimenter_function` then call it twice."
   ]
  },
  {
   "cell_type": "code",
   "execution_count": null,
   "metadata": {},
   "outputs": [],
   "source": [
    "# Create a complimenter function\n",
    "def complimenter_function():\n",
    "    \"\"\"prints a compliment\"\"\" # Function definition statement\n",
    "    print('You are looking great today!')"
   ]
  },
  {
   "cell_type": "markdown",
   "metadata": {},
   "source": [
    "After you define a function, don't forget to call it to make it do the work!"
   ]
  },
  {
   "cell_type": "markdown",
   "metadata": {},
   "source": [
    "Ideally, a function definition statement should specify the data that the function takes and whether it returns any data. The triple quote notation can use single or double quotes, and it allows the string for the definition statement to expand over multiple lines in Python. If you would like to see a function's definition statement, you can use the `help()` function to check it out."
   ]
  },
  {
   "cell_type": "markdown",
   "metadata": {},
   "source": [
    "### Parameters vs. Arguments\n",
    "\n",
    "When we write a function definition, we can define a [parameter](https://www.geeksforgeeks.org/python/deep-dive-into-parameters-and-arguments-in-python/) to work with the function. We use the word parameter to describe the variable in parentheses within a function definition:\n",
    "\n",
    "```\n",
    "def my_function(input_variable):\n",
    "    \"\"\"Takes in X and returns Y\"\"\"\n",
    "    do this task\n",
    "```\n",
    "\n",
    "In the pseudo-code above, `input_variable` is a parameter because it is being used within the context of a function *definition*. When we actually call and run our function, the actual variable or value we pass to the function]is called an argument."
   ]
  },
  {
   "cell_type": "markdown",
   "metadata": {},
   "source": [
    "Arguments can be passed in based on parameter order (positional) or they can be explicitly passed using an `=`. (This could be useful if we wanted to pass an argument for the 10th parameter, but we did not want to pass arguments for the nine other parameters defined before it.)"
   ]
  },
  {
   "cell_type": "markdown",
   "metadata": {},
   "source": [
    "In the above example, we passed a string into our function, but we could also pass a variable. Try this next. Since the `complimenter_function` has already been defined, you can call it in the next cell without defining it again.\n"
   ]
  },
  {
   "cell_type": "markdown",
   "metadata": {},
   "source": [
    "A variable passed into a function could contain a list or dictionary. The type of objects that should be passed in and returned can [optionally be suggested through type hinting](https://docs.python.org/3/library/typing.html) in Python."
   ]
  },
  {
   "cell_type": "markdown",
   "metadata": {},
   "source": [
    "### The Importance of Avoiding Duplication\n",
    "\n",
    "Using functions makes it easier for us to update our code. Let's say we wanted to change our compliment. We can simply change the function definition one time to make the change everywhere. See if you can change the compliment given by our complimenter function."
   ]
  },
  {
   "cell_type": "markdown",
   "metadata": {},
   "source": [
    "By changing our [function](https://constellate.org/docs/key-terms/#function) definition just one time, we were able to make our program behave differently every time it was called. If our program was large, it might call our custom function hundreds of times. If our code repeated like that, we would need to change it in every place!\n",
    "\n",
    "Generally, it is good practice to avoid duplicating program code to avoid having to change it in multiple places. When programmers edit their code, they may spend time **deduplicating** (getting rid of code that repeats). This makes the code easier to read and maintain."
   ]
  },
  {
   "cell_type": "markdown",
   "metadata": {},
   "source": [
    "### Function Return Values\n",
    "\n",
    "Whether or not a function takes an argument, it will always return a value. If we do not specify that return value in our function definition, it is automatically set to `None`, a special value like the Boolean `True` and `False` that simply means null or nothing. (`None` is not the same thing as, say, the integer 0.) We can also specify return values for our function using a flow control statement followed by `return` in a code block.\n",
    "\n",
    "If you don't write a `Return` statement in your function, a `None` value will be returned. If you don't write a `Return` statement in your function, a `None` value will be returned. "
   ]
  },
  {
   "cell_type": "markdown",
   "metadata": {},
   "source": [
    "Instead of automatically printing inside the function, the better approach is to return a string value and let the user decide whether to print it or do something else with it. Ideally, our function definition statement should indicate what goes into the function and what is returned by the function."
   ]
  },
  {
   "cell_type": "markdown",
   "metadata": {},
   "source": [
    "Returning the string allows the programmer to use the output instead of just printing it automatically. This is usually the better practice. \n",
    "\n",
    "We can also offer multiple return statements with flow control. Let's write a function for telling fortunes. We can call it `fortune_picker` and it will accept a number (1-6) then return a string for the fortune."
   ]
  },
  {
   "cell_type": "markdown",
   "metadata": {},
   "source": [
    "In our example, we passed the argument `3` that returned the string `'A new friend will help you find yourself'`. To change the fortune, we would have to pass a different integer into the function. To make our fortune-teller random, we could import the function `randint()` that chooses a random number between two integers. We pass the two integers as arguments separated by a comma.\n"
   ]
  },
  {
   "cell_type": "markdown",
   "metadata": {},
   "source": [
    "### Local and Global Scope\n",
    "\n",
    "We have seen that functions make maintaining code easier by avoiding duplication. One of the most dangerous areas for duplication is variable names. As programming projects become larger, the possibility that a variable will be re-used goes up. This can cause weird errors in our programs that are hard to track down. We can alleviate the problem of duplicate variable names through the concepts of local scope and global scope.\n",
    "\n",
    "We use the phrase local scope to describe what happens within a function. The local scope of a function may contain a local variables, but once that function has completed the local variables and their contents are erased.\n",
    "\n",
    "On the other hand, we can also create global variables that persist at the top-level of the program *and also* within the local scope of a function.\n",
    "\n",
    "    * In the global scope, Python does not recognize any local variable from within the program's functions\n",
    "    * In the local scope of a function, Python can recognize any global variables\n",
    "    * It is possible for there to be a global variable and a local variable with the same name\n",
    "\n",
    "Ideally, Python programs should limit the number of global variables and create most variables in a local scope. This keeps confounding variables localized in functions where they are used and then discarded.\n"
   ]
  },
  {
   "cell_type": "markdown",
   "metadata": {},
   "source": [
    "The code above defines a global variable `global_string` with the value of 'global'. A function, called `print_strings`, then defines a local variable `local_string` with a value of 'local'. When we call the `print_strings()` function, it prints the local variable and the global variable. \n"
   ]
  },
  {
   "cell_type": "markdown",
   "metadata": {},
   "source": [
    "After the `print_strings()` function completes, we try to print both variables in a global scope. The program prints `global_string` but crashes when trying to print `local_string` in a global scope.\n",
    "\n",
    "It's a good practice not to name a local variable the same thing as a global variable. If we define a variable with the same name in a local scope, it becomes a local variable within that scope. Once the function is closed, the global variable retains its original value.\n"
   ]
  },
  {
   "cell_type": "markdown",
   "metadata": {},
   "source": [
    "## Popular Python Packages\n",
    "\n",
    "[Modules](https://www.geeksforgeeks.org/python/python-modules/) containing functions for a similar type of task are often grouped together into a [package](https://www.geeksforgeeks.org/python/python-packages/). Here are some of the most popular packages used in Python:\n",
    "\n",
    "### Processing and cleaning data\n",
    "\n",
    "* [NumPy](https://numpy.org/) (num-pie)- Speeds up scientific analysis of very large amounts of data in arrays\n",
    "* [pandas](https://pandas.pydata.org/)- Completes data manipulation, particularly moving, cleaning, and improving data quality\n",
    "\n",
    "### Visualizing data\n",
    "* [matplotlib](https://matplotlib.org/)- Creates static, animated, and interactive visualizations. \n",
    "* [Seaborn](https://seaborn.pydata.org/)- An expansion of matplotlib that provides a \"high-level interface for drawing attractive and informative statistical graphics\n",
    "* [Plotly](https://plotly.com/)- Create graphs, analytics, and statistics visualizations\n",
    "* [Dash](https://plotly.com/dash/)- Create interactive web applications and dashboards\n",
    "\n",
    "### Text Analysis\n",
    "* [spaCy](https://spacy.io/)- Do text analysis on a large variety of languages\n",
    "* [gensim](https://radimrehurek.com/gensim/)- Do topic modeling\n",
    "* [NLTK](https://www.nltk.org/) (Natural Language Tool Kit)-  Access corpora and complete text analysis tasks like tokenization, stemming, tagging, parsing, and semantic reasoning\n",
    "\n",
    "### Artificial Intelligence and Machine Learning\n",
    "\n",
    "* [sci-kit-learn](https://scikit-learn.org/stable/)- Implement machine learning in areas such as classification, predictive analytics, regression, and clustering\n",
    "* [Keras](https://keras.io/)- Implement deep learning using neural networks\n",
    "* [TensorFlow](https://www.tensorflow.org/)- Implement machine learning with a particular focus on training and deep neural networks\n",
    "* [🤗 Transformers](https://huggingface.co/docs/transformers/index)- Easily work a variety of models based on Hugging Face 🤗\n",
    "\n",
    "### Data Gathering\n",
    "\n",
    "* [Requests](https://requests.readthedocs.io/en/latest/)- An HTTP client that helps connect to websites and download files\n",
    "* [urllib3](https://urllib3.readthedocs.io/en/stable/)- Another HTTP client that helps connect to websites and download files\n",
    "* [Beautiful Soup](https://www.crummy.com/software/BeautifulSoup/bs4/doc/)- Pull data out of HTML or XML files, helpful for scraping information from websites\n",
    "* [Scrapy](https://scrapy.org/)- Helps extract data from websites\n",
    "\n",
    "### Textual Digitization\n",
    "\n",
    "* [Tesseract](https://github.com/tesseract-ocr/tesseract)- Use optical character recognition to convert images into plaintext\n",
    "* [Pillow](https://pillow.readthedocs.io/en/stable/)- Read and manipulate images with Python\n",
    "\n",
    "Packages are generally installed by using [PyPI](https://pypi.org/), the official Python package index. As of April 2022, there are over 350,000 packages available."
   ]
  },
  {
   "cell_type": "markdown",
   "metadata": {},
   "source": [
    "## Installing a Python Package in Juypter Lab\n",
    "\n",
    "If you would like to install a package that is not in Juypter Lab, we recommend using the pip installer with packages from the [Python Package Index](https://pypi.org/). In a code cell insert the following code:\n",
    "\n",
    "`!pip install package_name`\n",
    "\n",
    "for the relevant package you would like to install. The exclamation point indicates the line should be run as a terminal command. \n",
    "\n",
    "Refer to the package's documentation for guidance."
   ]
  },
  {
   "cell_type": "markdown",
   "metadata": {},
   "source": [
    "*from* [Python Basics 5](https://southernmethodistuniversity.github.io/intro-to-python/python-basics-5.html)\n",
    "\n",
    "# strings\n",
    "To use strings, you will use:\n",
    "* Escape characters\n",
    "* String methods\n"
   ]
  },
  {
   "cell_type": "markdown",
   "metadata": {},
   "source": [
    "## The `print()` function\n",
    "\n"
   ]
  },
  {
   "cell_type": "markdown",
   "metadata": {},
   "source": [
    "Often when working with strings, we use the [`print()` function](https://www.geeksforgeeks.org/python/python-output-using-print-function/). A deeper understanding of `print()` will help us work with strings more flexibly."
   ]
  },
  {
   "cell_type": "markdown",
   "metadata": {},
   "source": [
    "### Escape characters\n",
    "\n",
    "Python strings can use single or double quotes. If the string contains a single quote character, it may be beneficial to use double quotes. Try printing out the string in the next code cell:"
   ]
  },
  {
   "cell_type": "code",
   "execution_count": null,
   "metadata": {},
   "outputs": [],
   "source": [
    "# Print out a string using single or double quotes\n",
    "string = 'Hello World: Here's a string.'\n",
    "print(string)"
   ]
  },
  {
   "cell_type": "markdown",
   "metadata": {},
   "source": [
    "An easy solution would be to use double quotes, such as:\n",
    "> string = \"Hello World: Here's a string.\"\n",
    "\n",
    "The use of double quotes keeps Python from ending the string prematurely. But what if your string contains both single and double quotes? Escape characters help us insert certain characters into a string. An escape character begins with a `\\`. For example, we could insert a single quote into a string surrounded by single quotes by using an escape character."
   ]
  },
  {
   "cell_type": "code",
   "execution_count": null,
   "metadata": {},
   "outputs": [],
   "source": [
    "# Print out a single quote in a Python string\n",
    "string = 'There\\'s an escape character in this string.'\n",
    "print(string)"
   ]
  },
  {
   "cell_type": "markdown",
   "metadata": {},
   "source": [
    "The backslash character `\\` in front of the single quote tells Python not to end the string prematurely. Of course, this opens a new question: How do we create a string with a backslash? The answer is another escape character using two backslashes."
   ]
  },
  {
   "cell_type": "code",
   "execution_count": null,
   "metadata": {},
   "outputs": [],
   "source": [
    "# Print a backslash using an escape character\n",
    "string = 'Adding a backslash \\\\ requires an escape character.'\n",
    "print(string)"
   ]
  },
  {
   "cell_type": "markdown",
   "metadata": {},
   "source": [
    "Another option is to use a raw string, which ignores any escape characters. A raw string simply starts with an `r` similar to an `f` string."
   ]
  },
  {
   "cell_type": "code",
   "execution_count": null,
   "metadata": {},
   "outputs": [],
   "source": [
    "string = r'No escape characters \\ here'\n",
    "print(string)"
   ]
  },
  {
   "cell_type": "markdown",
   "metadata": {},
   "source": [
    "Escape characters also do more than just allow us to add quotes and backslashes. They are also responsible for string formatting for aspects such as tabs and new lines."
   ]
  },
  {
   "cell_type": "markdown",
   "metadata": {},
   "source": [
    "|Code|Result|\n",
    "|---|---|\n",
    "|`\\'`| ' |\n",
    "|`\\\\`| \\ |\n",
    "|`\\t`| tab |\n",
    "|`\\n`| new line|"
   ]
  },
  {
   "cell_type": "code",
   "execution_count": null,
   "metadata": {
    "scrolled": true
   },
   "outputs": [],
   "source": [
    "# Print out a string with two lines\n"
   ]
  },
  {
   "cell_type": "code",
   "execution_count": null,
   "metadata": {},
   "outputs": [],
   "source": [
    "# Print out a string with a tab\n"
   ]
  },
  {
   "cell_type": "markdown",
   "metadata": {},
   "source": [
    "The newline escape character `\\n` can affect readability for many lines. Consider this string containing four lines of a Shakespeare sonnet."
   ]
  },
  {
   "cell_type": "code",
   "execution_count": null,
   "metadata": {
    "scrolled": true
   },
   "outputs": [],
   "source": [
    "string = 'Shall I compare thee to a summer’s day?\\nThou art more lovely and more temperate:\\nRough winds do shake the darling buds of May,\\nAnd summer’s lease hath all too short a date;\\n'\n",
    "print(string)"
   ]
  },
  {
   "cell_type": "markdown",
   "metadata": {},
   "source": [
    "A more readable option is to create a string with a triple quote (single or double). This string type can also automatically interpret new lines and tabs."
   ]
  },
  {
   "cell_type": "code",
   "execution_count": null,
   "metadata": {},
   "outputs": [],
   "source": [
    "# Print out Shakespeare's Sonnet 18\n",
    "string = \"\"\"Shall I compare thee to a summer’s day?\n",
    "Thou art more lovely and more temperate:\n",
    "Rough winds do shake the darling buds of May,\n",
    "And summer’s lease hath all too short a date;\n",
    "Sometime too hot the eye of heaven shines,\n",
    "And often is his gold complexion dimm'd;\n",
    "And every fair from fair sometime declines,\n",
    "By chance or nature’s changing course untrimm'd;\n",
    "But thy eternal summer shall not fade,\n",
    "Nor lose possession of that fair thou ow’st;\n",
    "Nor shall death brag thou wander’st in his shade,\n",
    "When in eternal lines to time thou grow’st:\n",
    "    So long as men can breathe or eyes can see,\n",
    "    So long lives this, and this gives life to thee.\"\"\"\n",
    "\n",
    "print(string)\n"
   ]
  },
  {
   "cell_type": "markdown",
   "metadata": {},
   "source": [
    "### Formatted strings (f-strings)\n",
    "\n",
    "An f-string can help us concatenate a variable inside of string. Consider this example where a print function must concatenate three strings:"
   ]
  },
  {
   "cell_type": "code",
   "execution_count": null,
   "metadata": {},
   "outputs": [],
   "source": [
    "# Greeting a user with a concatenated string\n",
    "username = input('Hi. What is your name? ')\n",
    "\n",
    "print('Hello ' + username + '!')"
   ]
  },
  {
   "cell_type": "markdown",
   "metadata": {},
   "source": [
    "We used the `+` operator twice to concatenate `username` between the strings `'Hello '` and `'!'`. A simpler method would be to use an f-string. Similar to the way a raw string begins with an **r** `r'string'`, the formatted string begins with an **f** `f'string'`. The variable to be concatenated is then included in curly brackets `{}`."
   ]
  },
  {
   "cell_type": "code",
   "execution_count": null,
   "metadata": {},
   "outputs": [],
   "source": [
    "# Print the username inside a formatted string\n",
    "print(f'Hello {username}!')"
   ]
  },
  {
   "cell_type": "markdown",
   "metadata": {},
   "source": [
    "### Using `print()` with a `sep` or `end` argument\n",
    "The `print()` function can accept additional arguments such as `sep` or `end`. These can help format a string appropriately for output. By default, the print function will print many objects separated by a comma."
   ]
  },
  {
   "cell_type": "code",
   "execution_count": null,
   "metadata": {},
   "outputs": [],
   "source": [
    "# Print multiple objects with a single print() statement\n",
    "string1 = 'Hello'\n",
    "string2 = 'World'\n",
    "string3 = '!'\n",
    "\n",
    "print(string1, string2, string3)"
   ]
  },
  {
   "cell_type": "markdown",
   "metadata": {},
   "source": [
    "We can even remove the separator by specifying an empty string."
   ]
  },
  {
   "cell_type": "markdown",
   "metadata": {},
   "source": [
    "The print `print()` function also concatenates a new line by default. The is specified in the default argument `end='\\n'`."
   ]
  },
  {
   "cell_type": "markdown",
   "metadata": {},
   "source": [
    "## String slices and methods"
   ]
  },
  {
   "cell_type": "markdown",
   "metadata": {},
   "source": [
    "### String slices\n",
    "The characters of a string can also be indexed and sliced like the items of a list. "
   ]
  },
  {
   "cell_type": "code",
   "execution_count": null,
   "metadata": {},
   "outputs": [],
   "source": [
    "# Using a string index\n",
    "string = 'Python Basics'\n",
    "string[0]"
   ]
  },
  {
   "cell_type": "code",
   "execution_count": null,
   "metadata": {},
   "outputs": [],
   "source": [
    "# Slicing a string\n",
    "string = 'Python Basics'\n",
    "string[0:6]"
   ]
  },
  {
   "cell_type": "markdown",
   "metadata": {},
   "source": [
    "We can use flow control on a string the same way we would with a list."
   ]
  },
  {
   "cell_type": "code",
   "execution_count": null,
   "metadata": {},
   "outputs": [],
   "source": [
    "# Use a for loop on the string\n",
    "# To print each character except any letter 'o'\n",
    "string = 'Hello World'\n"
   ]
  },
  {
   "cell_type": "markdown",
   "metadata": {},
   "source": [
    "### String methods"
   ]
  },
  {
   "cell_type": "markdown",
   "metadata": {},
   "source": [
    "There are a variety of methods for manipulating strings. \n",
    "\n",
    "\n",
    "|Method | Purpose | Form |\n",
    "|---|---|---|\n",
    "|.lower()| change the string to lowercase | string.lower()|\n",
    "|.upper()| change the string to uppercase | string.upper()|\n",
    "|.join()| joins together a list of strings | ' '.join(string_list)|\n",
    "|.split()| splits strings apart | string.split()|\n",
    "|.replace()| replaces characters in a string | string.replace(oldvalue, newvalue)|\n",
    "|.rjust(), .ljust(), .center()| pad out a string | string.rjust(5)|\n",
    "|.rstrip(), .lstrip(), .strip()| strip out whitespace | string.rstrip()|\n"
   ]
  },
  {
   "cell_type": "markdown",
   "metadata": {},
   "source": [
    "All of the characters in a string can be lowercased with `.lower()` or uppercased with `.upper()`."
   ]
  },
  {
   "cell_type": "code",
   "execution_count": null,
   "metadata": {},
   "outputs": [],
   "source": [
    "# Lowercase a string\n",
    "string = 'Hello World'\n",
    "string.lower()"
   ]
  },
  {
   "cell_type": "markdown",
   "metadata": {},
   "source": [
    "These methods do not change the original string, but they return a string that can be saved to a new variable."
   ]
  },
  {
   "cell_type": "code",
   "execution_count": null,
   "metadata": {},
   "outputs": [],
   "source": [
    "# The original string is unchanged\n",
    "print(string)\n",
    "\n",
    "# The returned string can be assigned to a new variable\n",
    "new_string = string.upper()\n",
    "print(new_string)"
   ]
  },
  {
   "cell_type": "markdown",
   "metadata": {},
   "source": [
    "A string can be split on any character, or set of characters, passed into `.split()`. By default, strings are split on any whitespace including spaces, new lines, and tabs."
   ]
  },
  {
   "cell_type": "code",
   "execution_count": null,
   "metadata": {},
   "outputs": [],
   "source": [
    "# Splitting a string on white space\n",
    "string = 'This string will be split on whitespace.'\n",
    "string.split()"
   ]
  },
  {
   "cell_type": "code",
   "execution_count": null,
   "metadata": {},
   "outputs": [],
   "source": [
    "# Splitting a phone string based on the '-' character\n",
    "phone_string = '313-555-3434'\n",
    "phone_string.split('-')"
   ]
  },
  {
   "cell_type": "markdown",
   "metadata": {},
   "source": [
    "Similarly, lists of strings can be joined together by passing them into `.join()`. A joining string must be specified before the `.join()`, even if it is the empty string `''`."
   ]
  },
  {
   "cell_type": "code",
   "execution_count": null,
   "metadata": {},
   "outputs": [],
   "source": [
    "# List of strings joined together\n",
    "name_list = ['Sam', 'Delilah', 'Jordan']\n",
    "', '.join(name_list)"
   ]
  },
  {
   "cell_type": "markdown",
   "metadata": {},
   "source": [
    "The `.strip()` method will strip leading and trailing whitespace (including spaces, tabs, and new lines) from a string. Remember, these changes will not affect the original string, but they can be assigned to a new variable."
   ]
  },
  {
   "cell_type": "code",
   "execution_count": null,
   "metadata": {},
   "outputs": [],
   "source": [
    "# Stripping leading and trailing whitespaces from a string\n",
    "string = '    Python Basics '\n",
    "string.strip()"
   ]
  },
  {
   "cell_type": "markdown",
   "metadata": {},
   "source": [
    "It is also possible to only strip whitespace from the right or left of a string."
   ]
  },
  {
   "cell_type": "code",
   "execution_count": null,
   "metadata": {},
   "outputs": [],
   "source": [
    "# Stripping leading whitespace from the leftside of a string\n",
    "string = '    Python Basics '\n",
    "string.lstrip()"
   ]
  },
  {
   "cell_type": "markdown",
   "metadata": {},
   "source": [
    "Characters in a string can be replaced with other characters using the `.replace()` method."
   ]
  },
  {
   "cell_type": "code",
   "execution_count": null,
   "metadata": {},
   "outputs": [],
   "source": [
    "# Replacing characters in a string with .replace()\n",
    "string = 'Hello world'\n",
    "string.replace('l', 'x')"
   ]
  },
  {
   "cell_type": "code",
   "execution_count": null,
   "metadata": {},
   "outputs": [],
   "source": [
    "# Removing characters from a string\n",
    "# using .replace with an empty string\n",
    "string = 'Hello! World!'\n",
    "string.replace('!', '')"
   ]
  },
  {
   "cell_type": "markdown",
   "metadata": {},
   "source": [
    "Finally, strings can be justified (or padded out) with characters leading, trailing, or both. By default, strings are justified with spaces but other characters can be specified by passing a second argument."
   ]
  },
  {
   "cell_type": "code",
   "execution_count": null,
   "metadata": {},
   "outputs": [],
   "source": [
    "# Left justifying a string\n",
    "string1 = 'Hello'\n",
    "string2 = 'world!'\n",
    "\n",
    "print(string1.ljust(10) + string2)"
   ]
  },
  {
   "cell_type": "code",
   "execution_count": null,
   "metadata": {},
   "outputs": [],
   "source": [
    "# Left justifying a string with pluses\n",
    "string1 = 'Hello'\n",
    "string2 = 'world!'\n",
    "\n",
    "print(string1.ljust(10, '+') + string2)"
   ]
  },
  {
   "cell_type": "code",
   "execution_count": null,
   "metadata": {},
   "outputs": [],
   "source": [
    "# Right justifying a string\n",
    "string1 = 'Hello'\n",
    "string2 = 'world!'\n",
    "\n",
    "print(string1 + string2.rjust(10))"
   ]
  },
  {
   "cell_type": "code",
   "execution_count": null,
   "metadata": {},
   "outputs": [],
   "source": [
    "# Center a string\n",
    "string = 'Hello world!'\n",
    "\n",
    "print('|' + string.center(20) + '|')"
   ]
  },
  {
   "cell_type": "code",
   "execution_count": null,
   "metadata": {},
   "outputs": [],
   "source": [
    "# Center a string\n",
    "string = 'Hello world!'\n",
    "\n",
    "print('|' + string.center(20, '+') + '|')"
   ]
  },
  {
   "cell_type": "code",
   "execution_count": null,
   "metadata": {},
   "outputs": [],
   "source": [
    "# Printing a dictionary of contacts in neat columns\n",
    "contacts ={\n",
    " 'Amanda Bennett': 'Engineer, electrical',\n",
    " 'Bryan Miller': 'Radiation protection practitioner',\n",
    " 'Christopher Garrison': 'Planning and development surveyor',\n",
    " 'Debra Allen': 'Intelligence analyst'}\n",
    "\n",
    "print('Name', 'Occupation')\n",
    "for name, occupation in contacts.items():\n",
    "    print(name, occupation)"
   ]
  },
  {
   "cell_type": "markdown",
   "metadata": {},
   "source": [
    "### Checking string contents\n",
    "\n",
    "There are a variety of ways to to verify the contents of a string. These return a Boolean `True` or `False` and are useful for flow control. For example, we can check if a particular set of characters is inside of a string with the `in` and `not in` operators. The result is a Boolean True or False."
   ]
  },
  {
   "cell_type": "code",
   "execution_count": null,
   "metadata": {},
   "outputs": [],
   "source": [
    "# Check whether a set of characters can be found in a string\n",
    "string = 'Python Basics'\n",
    "'Basics' in string"
   ]
  },
  {
   "cell_type": "markdown",
   "metadata": {},
   "source": [
    "The following string methods also return Boolean `True` or `False` values.\n",
    "\n",
    "|Method | Purpose | Form |\n",
    "|---|---|---|\n",
    "|.startswith(), .endswith()| returns `True` if the string starts/ends with another string | string.startswith('abc')|\n",
    "|.isupper(), .islower()| returns `True` if all characters are upper or lowercase| string.isupper()|\n",
    "|.isalpha()| returns `True` if string is only letters and not blank | string.isalpha()|\n",
    "|.isalnum()| returns `True` if string only letters or numbers but not blank | string.alnum()|\n",
    "|.isdigit()| returns`True` if string is only numbers and not blank | string.isdigit()|"
   ]
  },
  {
   "cell_type": "code",
   "execution_count": null,
   "metadata": {},
   "outputs": [],
   "source": [
    "# Checking if a string starts \n",
    "# with a particular set of characters\n",
    "\n",
    "string = 'Python Basics'\n",
    "string.startswith('Python')"
   ]
  },
  {
   "cell_type": "code",
   "execution_count": null,
   "metadata": {},
   "outputs": [],
   "source": [
    "# Checking if a string is lowercased\n",
    "string = 'python basics'\n",
    "string.islower()"
   ]
  },
  {
   "cell_type": "code",
   "execution_count": null,
   "metadata": {},
   "outputs": [],
   "source": [
    "# Checking if a string is alphabet characters\n",
    "string = 'PythonBasics'\n",
    "string.isalpha()"
   ]
  },
  {
   "cell_type": "code",
   "execution_count": null,
   "metadata": {},
   "outputs": [],
   "source": [
    "# Checking if a string only\n",
    "# alphabetic characters and numbers\n",
    "string = 'PythonBasics5'\n",
    "string.isalnum()"
   ]
  },
  {
   "cell_type": "code",
   "execution_count": null,
   "metadata": {},
   "outputs": [],
   "source": [
    "# Checking if a string is only numbers\n",
    "string = '50'\n",
    "string.isdigit()"
   ]
  },
  {
   "cell_type": "markdown",
   "metadata": {},
   "source": [
    "The `.isdigit()` method checks each character to verify it is a digit between 0-9. It will return `false` if there is a negative (-) or decimal point (.) character."
   ]
  },
  {
   "cell_type": "markdown",
   "metadata": {},
   "source": [
    "______\n",
    "Attribution\n",
    "![Creative Commons CC BY License](https://raw.githubusercontent.com/SouthernMethodistUniversity/intro-to-python/main/images/CC_BY.png)\n",
    "\n",
    "Created by [Nathan Kelber](http://nkelber.com) and Ted Lawless for [JSTOR Labs](https://labs.jstor.org/) under [Creative Commons CC BY License](https://creativecommons.org/licenses/by/4.0/)"
   ]
  }
 ],
 "metadata": {
  "kernelspec": {
   "display_name": "Python 3 (ipykernel)",
   "language": "python",
   "name": "python3"
  },
  "language_info": {
   "codemirror_mode": {
    "name": "ipython",
    "version": 3
   },
   "file_extension": ".py",
   "mimetype": "text/x-python",
   "name": "python",
   "nbconvert_exporter": "python",
   "pygments_lexer": "ipython3",
   "version": "3.13.5"
  },
  "toc": {
   "base_numbering": 1,
   "nav_menu": {},
   "number_sections": true,
   "sideBar": true,
   "skip_h1_title": true,
   "title_cell": "Table of Contents",
   "title_sidebar": "Contents",
   "toc_cell": false,
   "toc_position": {},
   "toc_section_display": true,
   "toc_window_display": false
  },
  "toc-autonumbering": false,
  "toc-showcode": false,
  "toc-showmarkdowntxt": false,
  "toc-showtags": false
 },
 "nbformat": 4,
 "nbformat_minor": 4
}
