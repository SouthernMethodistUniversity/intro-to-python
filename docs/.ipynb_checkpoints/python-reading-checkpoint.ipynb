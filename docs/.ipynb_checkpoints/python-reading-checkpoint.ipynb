{
 "cells": [
  {
   "attachments": {},
   "cell_type": "markdown",
   "metadata": {},
   "source": [
    "# Reading Python\n",
    "- This notebooks goal is not to produce python code, but an introduction on to to make sense of (read) code.\n",
    "  - we will go through and learn some Python terminology and structure.\n",
    "  - You can install Python on your computer and write code form scratch, but this is time intensive and not necessary when getting started\n",
    "  - Jupyter Notebooks and Colab are computational notebooks workbook where you can run code in your browser. There are many computational notebooks used in workshops and online books. \n",
    "    - For more on Computational notebooks see this page, [JupyterLab & Notebooks](https://southernmethodistuniversity.github.io/intro-to-python/jupyterlab.html)\n",
    "    \n",
    "\n",
    "\n"
   ]
  },
  {
   "cell_type": "markdown",
   "metadata": {},
   "source": [
    "# Reading Left to Right and Right to Left\n",
    "Python has a syntax… \n",
    "….and it builds on what happened immediately before, line by line. \n",
    "So the value of y depends on what happened just before.\n",
    "\n",
    " <img src=\"https://raw.githubusercontent.com/SouthernMethodistUniversity/intro-to-python/main/images/readpy.png\" alt=\"reading python\"/>"
   ]
  },
  {
   "cell_type": "code",
   "execution_count": null,
   "metadata": {},
   "outputs": [],
   "source": [
    "x = 0 + 1   # Python creates x and stores 1 in it\n",
    "y = x + 1   # Python uses the value of x (which is 1) to compute y = 2\n"
   ]
  },
  {
   "cell_type": "markdown",
   "metadata": {},
   "source": [
    "- Human thinking → left to right.\n",
    "- Left to right: You read the line of code like a sentence: x = 0 + 1 means “x equals 0 plus 1.”\n",
    "\n",
    "- Computer execution → right side first, then assign left.\n",
    "- Right to left: Python evaluates the right side first (0 + 1), and then stores that result into the variable on the left (x).\n"
   ]
  },
  {
   "cell_type": "markdown",
   "metadata": {},
   "source": [
    "# Variables\n",
    "\n",
    "A variable is like a tiny container where you store values and data\n",
    "- Filenames\n",
    "- Words\n",
    "- Numbers\n",
    "- Collections of words and numbers\n",
    "- Etc.\n"
   ]
  },
  {
   "cell_type": "markdown",
   "metadata": {},
   "source": [
    "# Some useful vocabulary for python\n",
    " <img src=\"https://raw.githubusercontent.com/SouthernMethodistUniversity/intro-to-python/main/images/vocabpy1.png\" alt=\"Python Vocabulary 1\"/>"
   ]
  },
  {
   "attachments": {},
   "cell_type": "markdown",
   "metadata": {},
   "source": [
    "# Examples \n",
    "\n",
    "<img src=\"https://raw.githubusercontent.com/SouthernMethodistUniversity/intro-to-python/main/images/readindex.gif\" alt=\"reading index\"/>\n",
    "\n",
    "- Let's go though and read what this code is doing\n",
    "\n",
    "<img src=\"https://raw.githubusercontent.com/SouthernMethodistUniversity/intro-to-python/main/images/readindex1.png\" alt=\"Python Vocabulary\"/>\n",
    "\n",
    "<img src=\"https://raw.githubusercontent.com/SouthernMethodistUniversity/intro-to-python/main/images/readindex2.png\" alt=\"Python Vocabulary\"/>\n",
    "\n",
    "<img src=\"https://raw.githubusercontent.com/SouthernMethodistUniversity/intro-to-python/main/images/readindex3.png\" alt=\"Python Vocabulary\"/>\n",
    "\n",
    "<img src=\"https://raw.githubusercontent.com/SouthernMethodistUniversity/intro-to-python/main/images/readindex4.png\" alt=\"Python Vocabulary\"/>\n",
    "\n",
    "<img src=\"https://raw.githubusercontent.com/SouthernMethodistUniversity/intro-to-python/main/images/readindex5.png\" alt=\"Python Vocabulary\"/>"
   ]
  },
  {
   "cell_type": "markdown",
   "metadata": {},
   "source": [
    "# Some more useful vocabulary for python\n",
    " <img src=\"https://raw.githubusercontent.com/SouthernMethodistUniversity/intro-to-python/main/images/vocabpy2.png\" alt=\"Python Vocabulary 2\"/>"
   ]
  },
  {
   "cell_type": "markdown",
   "metadata": {},
   "source": [
    "- References\n",
    "\n",
    "[Introduction to Cultural Analytics & Python, Designed by Melanie Walsh](https://melaniewalsh.github.io/Intro-Cultural-Analytics/welcome.html)\n",
    "\n"
   ]
  },
  {
   "cell_type": "markdown",
   "metadata": {},
   "source": [
    "______\n",
    "Attribution\n",
    "![Creative Commons CC BY License](https://raw.githubusercontent.com/SouthernMethodistUniversity/intro-to-python/main/images/CC_BY.png)\n",
    "\n",
    "[READING PYTHON: a program of commands for talking to your computer](https://www.dropbox.com/scl/fi/2xg6cph6ag38iy5vzn0kg/intro-to-python-beginners.pptx?rlkey=xghsqe6xr2ahqds9nwicnsgxm&e=2&st=zjdg2qwf&dl=0)\n",
    "Created by [Dr Heather Froehlich](https://hfroehli.ch/) used under [Creative Commons CC BY License](https://creativecommons.org/licenses/by/4.0/)\n",
    "___"
   ]
  },
  {
   "cell_type": "code",
   "execution_count": null,
   "metadata": {},
   "outputs": [],
   "source": []
  },
  {
   "cell_type": "code",
   "execution_count": null,
   "metadata": {},
   "outputs": [],
   "source": []
  }
 ],
 "metadata": {
  "kernelspec": {
   "display_name": "Python 3 (ipykernel)",
   "language": "python",
   "name": "python3"
  },
  "language_info": {
   "codemirror_mode": {
    "name": "ipython",
    "version": 3
   },
   "file_extension": ".py",
   "mimetype": "text/x-python",
   "name": "python",
   "nbconvert_exporter": "python",
   "pygments_lexer": "ipython3",
   "version": "3.13.5"
  },
  "toc": {
   "base_numbering": 1,
   "nav_menu": {},
   "number_sections": true,
   "sideBar": true,
   "skip_h1_title": true,
   "title_cell": "Table of Contents",
   "title_sidebar": "Contents",
   "toc_cell": false,
   "toc_position": {},
   "toc_section_display": true,
   "toc_window_display": false
  }
 },
 "nbformat": 4,
 "nbformat_minor": 4
}
