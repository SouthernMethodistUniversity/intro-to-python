{
 "cells": [
  {
   "cell_type": "markdown",
   "metadata": {},
   "source": [
    "# READING PYTHON\n",
    "- This notebooks goal is not to produce python code, but an introduction on to to make sense of (read) code.\n",
    "  - we will go through and learn some Python terminology and structure. \n",
    "\n",
    "\n"
   ]
  },
  {
   "cell_type": "markdown",
   "metadata": {},
   "source": [
    "Python has a syntax… \n",
    "….and it builds on what happened immediately before, line by line. \n",
    "\n",
    " <img src=\"https://raw.githubusercontent.com/SouthernMethodistUniversity/intro-to-python/main/images/readpy.png\" alt=\"Open Jupyter Lab\" width=\"200\"/>"
   ]
  },
  {
   "cell_type": "code",
   "execution_count": null,
   "metadata": {},
   "outputs": [],
   "source": [
    "x = 0 + 1   # Python creates x and stores 1 in it\n",
    "y = x + 1   # Python uses the value of x (which is 1) to compute y = 2\n"
   ]
  },
  {
   "cell_type": "markdown",
   "metadata": {},
   "source": [
    "So the value of y depends on what happened just before.\n",
    "\n",
    "Reading Left to Right and Right to Left\n",
    "\n",
    "Left to right: You read the line of code like a sentence: x = 0 + 1 means “x equals 0 plus 1.”\n",
    "\n",
    "Right to left: Python evaluates the right side first (0 + 1), and then stores that result into the variable on the left (x).\n",
    "\n",
    "So both directions matter:\n",
    "\n",
    "Human thinking → left to right.\n",
    "\n",
    "Computer execution → right side first, then assign left."
   ]
  },
  {
   "cell_type": "code",
   "execution_count": 1,
   "metadata": {},
   "outputs": [],
   "source": [
    "# [Slides for this session](https://raw.githubusercontent.com/SouthernMethodistUniversity/intro-to-python/main/files/intro-to-python-beginners.pdf)"
   ]
  },
  {
   "cell_type": "markdown",
   "metadata": {},
   "source": [
    "[Introduction to Cultural Analytics & Python, Designed by Melanie Walsh](https://melaniewalsh.github.io/Intro-Cultural-Analytics/welcome.html)\n",
    "\n"
   ]
  },
  {
   "cell_type": "markdown",
   "metadata": {},
   "source": [
    "______\n",
    "Attribution\n",
    "![Creative Commons CC BY License](https://raw.githubusercontent.com/SouthernMethodistUniversity/intro-to-python/main/images/CC_BY.png)\n",
    "\n",
    "[READING PYTHON: a program of commands for talking to your computer](https://www.dropbox.com/scl/fi/2xg6cph6ag38iy5vzn0kg/intro-to-python-beginners.pptx?rlkey=xghsqe6xr2ahqds9nwicnsgxm&e=2&st=zjdg2qwf&dl=0)\n",
    "Created by [Dr Heather Froehlich](https://hfroehli.ch/) used under [Creative Commons CC BY License](https://creativecommons.org/licenses/by/4.0/)\n",
    "___"
   ]
  },
  {
   "cell_type": "code",
   "execution_count": null,
   "metadata": {},
   "outputs": [],
   "source": []
  },
  {
   "cell_type": "code",
   "execution_count": null,
   "metadata": {},
   "outputs": [],
   "source": []
  }
 ],
 "metadata": {
  "kernelspec": {
   "display_name": "Python 3 (ipykernel)",
   "language": "python",
   "name": "python3"
  },
  "language_info": {
   "codemirror_mode": {
    "name": "ipython",
    "version": 3
   },
   "file_extension": ".py",
   "mimetype": "text/x-python",
   "name": "python",
   "nbconvert_exporter": "python",
   "pygments_lexer": "ipython3",
   "version": "3.13.5"
  },
  "toc": {
   "base_numbering": 1,
   "nav_menu": {},
   "number_sections": true,
   "sideBar": true,
   "skip_h1_title": true,
   "title_cell": "Table of Contents",
   "title_sidebar": "Contents",
   "toc_cell": false,
   "toc_position": {},
   "toc_section_display": true,
   "toc_window_display": false
  }
 },
 "nbformat": 4,
 "nbformat_minor": 4
}
