{
 "cells": [
  {
   "attachments": {},
   "cell_type": "markdown",
   "metadata": {},
   "source": [
    "# Reading Python\n",
    "- This notebooks goal is not to produce python code, but an introduction on to to make sense of (read) code.\n",
    "  - We will go through and learn some Python terminology and structure.\n",
    "  - You can install Python on your computer and write code from scratch, and we do have resources on getting started with coding. \n",
    "- However, if you are reading or using a digital scholarships or digital humanities project, you may just want to have a general understanding of what the researchers or developers are using code for. \n",
    "- The goals of this notebook is to help you develop the ability to: \n",
    "    - Be able to identify some discrete pieces of code\n",
    "    - Identify (at a high level) the processes we are going through\n",
    "\n",
    "  - Jupyter Notebooks and Colab are computational notebooks that allow you to run code in your browser. There are many computational notebooks used in workshops and online books. \n",
    "    - For more on computational notebooks see this page, [JupyterLab & Notebooks](https://southernmethodistuniversity.github.io/intro-to-python/jupyterlab.html)\n",
    "    \n",
    "\n",
    "\n"
   ]
  },
  {
   "cell_type": "markdown",
   "metadata": {},
   "source": [
    "# Reading Left to Right and Right to Left\n",
    "Python has a syntax… \n",
    "….and it builds on what happened immediately before, line by line. \n",
    "So the value of y depends on what happened just before.\n",
    "\n",
    " <img src=\"https://raw.githubusercontent.com/SouthernMethodistUniversity/intro-to-python/main/images/readpy.png\" alt=\"reading python\"/>"
   ]
  },
  {
   "cell_type": "code",
   "execution_count": null,
   "metadata": {},
   "outputs": [],
   "source": [
    "x = 0 + 1   # Python creates x and stores 1 in it\n",
    "y = x + 1   # Python uses the value of x (which is 1) to compute y = 2\n"
   ]
  },
  {
   "cell_type": "markdown",
   "metadata": {},
   "source": [
    "- Human thinking → left to right.\n",
    "- Left to right: You read the line of code like a sentence: x = 0 + 1 means “x equals 0 plus 1.”\n",
    "\n",
    "- Computer execution → right side first, then assign left.\n",
    "- Right to left: Python evaluates the right side first (0 + 1), and then stores that result into the variable on the left (x).\n"
   ]
  },
  {
   "cell_type": "markdown",
   "metadata": {},
   "source": [
    "# Variables\n",
    "\n",
    "A variable is like a tiny container where you store values and data\n",
    "- Filenames\n",
    "- Words\n",
    "- Numbers\n",
    "- Collections of words and numbers\n",
    "- Etc.\n"
   ]
  },
  {
   "attachments": {},
   "cell_type": "markdown",
   "metadata": {},
   "source": [
    "# Some useful vocabulary for python\n",
    " <img src=\"https://raw.githubusercontent.com/SouthernMethodistUniversity/intro-to-python/main/images/vocabpy1.png\" alt=\"Python Vocabulary 1\"/>\n",
    "\n",
    "\n",
    "- For exmaple: Teenage Mutant Ninja Turtles -  Leonardo, Donatello, Raphael and Michelangelo.\n",
    "- assign names to the variable TMNT and return them\n",
    "- TMNT = TMNT.names[“Leonardo”, “Donatello”, ”Raphael”, ”Michealangelo”]\n",
    "- TMNT.names() \n",
    "- TMNT.names_colors = [“blue”,”red”,”purple”,”orange”]\n",
    " "
   ]
  },
  {
   "attachments": {},
   "cell_type": "markdown",
   "metadata": {},
   "source": [
    "# Examples \n",
    "\n",
    "<img src=\"https://raw.githubusercontent.com/SouthernMethodistUniversity/intro-to-python/main/images/readindex.gif\" alt=\"reading index\"/>\n",
    "\n",
    "- Let's go though and read what this code is doing\n",
    "\n",
    "<img src=\"https://raw.githubusercontent.com/SouthernMethodistUniversity/intro-to-python/main/images/readindex1.png\" alt=\"Python Vocabulary\"/>\n",
    "\n",
    "<img src=\"https://raw.githubusercontent.com/SouthernMethodistUniversity/intro-to-python/main/images/readindex2.png\" alt=\"Python Vocabulary\"/>\n",
    "\n",
    "<img src=\"https://raw.githubusercontent.com/SouthernMethodistUniversity/intro-to-python/main/images/readindex3.png\" alt=\"Python Vocabulary\"/>\n",
    "\n",
    "<img src=\"https://raw.githubusercontent.com/SouthernMethodistUniversity/intro-to-python/main/images/readindex4.png\" alt=\"Python Vocabulary\"/>\n",
    "\n",
    "<img src=\"https://raw.githubusercontent.com/SouthernMethodistUniversity/intro-to-python/main/images/readindex5.png\" alt=\"Python Vocabulary\"/>"
   ]
  },
  {
   "cell_type": "markdown",
   "metadata": {},
   "source": [
    "# Some more useful vocabulary for python\n",
    " <img src=\"https://raw.githubusercontent.com/SouthernMethodistUniversity/intro-to-python/main/images/vocabpy2.png\" alt=\"Python Vocabulary 2\"/>"
   ]
  },
  {
   "cell_type": "markdown",
   "metadata": {},
   "source": [
    "# Libraries in python\n",
    "- A library or package is a collection of pre-written code kits\n",
    "    - They allow you do a bunch of different things\n",
    "- Sometimes you have to add a bunch of them in a row\n",
    "    - There is probably an order to care about\n",
    "    - What do you need to know?\n"
   ]
  },
  {
   "attachments": {},
   "cell_type": "markdown",
   "metadata": {},
   "source": [
    "## Libraries in python: Examples\n",
    "\n",
    " <img src=\"https://raw.githubusercontent.com/SouthernMethodistUniversity/intro-to-python/main/images/importpa1.png\" alt=\"Python Libraries 1\"/>\n",
    "\n",
    " <img src=\"https://raw.githubusercontent.com/SouthernMethodistUniversity/intro-to-python/main/images/importpa2.png\" alt=\"Python Libraries 2\"/>\n",
    "\n",
    " - pandas is library specifically for working with data, cleaning it up, etc"
   ]
  },
  {
   "attachments": {},
   "cell_type": "markdown",
   "metadata": {},
   "source": [
    "# Some examples from *Introduction to Cultural Analytics & Python*\n",
    " - [Introduction to Cultural Analytics & Python, Designed by Melanie Walsh](https://melaniewalsh.github.io/Intro-Cultural-Analytics/welcome.html)\n",
    "\n"
   ]
  },
  {
   "attachments": {},
   "cell_type": "markdown",
   "metadata": {},
   "source": [
    "## [Iterate Through Dictionary](https://melaniewalsh.github.io/Intro-Cultural-Analytics/02-Python/11-Dictionaries.html#iterate-through-dictionary)\n",
    "\n",
    "\n",
    " <img src=\"https://raw.githubusercontent.com/SouthernMethodistUniversity/intro-to-python/main/images/iteratedict1.png\" alt=\"Iterate Through Dictionary 1\"/>\n",
    "\n",
    "\n",
    " <img src=\"https://raw.githubusercontent.com/SouthernMethodistUniversity/intro-to-python/main/images/iteratedict2.png\" alt=\"Iterate Through Dictionary 2\"/>\n",
    "\n",
    "- FOR intro a ”for” loop – idea that every time this thing happens, do this thing\n",
    "- IF introduces a certain level of logic\n",
    "- F’ (f-bar) is a formatting feature for strings (sets of letters-numbers)\n",
    "- { } pulls in the dictionaries established  \n"
   ]
  },
  {
   "cell_type": "markdown",
   "metadata": {},
   "source": [
    "## [Sentiment Analysis Example](https://melaniewalsh.github.io/Intro-Cultural-Analytics/05-Text-Analysis/04-Sentiment-Analysis.html#sentiment-analysis)\n",
    "\n",
    "- What is happening here? \n",
    " <img src=\"https://raw.githubusercontent.com/SouthernMethodistUniversity/intro-to-python/main/images/vader1.png\" alt=\"Vader example 1\"/>\n",
    "\n",
    "- Results:\n",
    " <img src=\"https://raw.githubusercontent.com/SouthernMethodistUniversity/intro-to-python/main/images/vader2.png\" alt=\"Vader example 2\"/>\n"
   ]
  },
  {
   "attachments": {},
   "cell_type": "markdown",
   "metadata": {},
   "source": [
    "## [Named Entity Recognition Example](https://melaniewalsh.github.io/Intro-Cultural-Analytics/05-Text-Analysis/12-Named-Entity-Recognition.html)\n",
    "\n",
    "- This is a common form – fill a list with certain information. What does it ask to do?\n",
    " <img src=\"https://raw.githubusercontent.com/SouthernMethodistUniversity/intro-to-python/main/images/ner1.png\" alt=\"NER example 1\"/>\n",
    "\n",
    "- Ents = “entities” \n",
    "- also == is a TRUE Statement (because we know that = is a variable assigner, == if this condition is true THEN do something\n",
    "\n",
    "\n",
    "- Results \n",
    " <img src=\"https://raw.githubusercontent.com/SouthernMethodistUniversity/intro-to-python/main/images/ner2.png\" alt=\"NER example 2\"/>\n",
    "\n"
   ]
  },
  {
   "cell_type": "markdown",
   "metadata": {},
   "source": [
    "## [Part-of-Speech Tagging Example](https://melaniewalsh.github.io/Intro-Cultural-Analytics/05-Text-Analysis/13-POS-Keywords.html)\n",
    "\n",
    " <img src=\"https://raw.githubusercontent.com/SouthernMethodistUniversity/intro-to-python/main/images/pos.png\" alt=\"POS example 1\"/>\n",
    "\n",
    " "
   ]
  },
  {
   "cell_type": "markdown",
   "metadata": {},
   "source": [
    "References: [Introduction to Cultural Analytics & Python, Designed by Melanie Walsh](https://melaniewalsh.github.io/Intro-Cultural-Analytics/welcome.html)\n",
    "- This online textbook offers an introduction to the programming language Python that is specifically designed for people interested in the humanities and social sciences.\n"
   ]
  },
  {
   "cell_type": "markdown",
   "metadata": {},
   "source": [
    "______\n",
    "Attribution\n",
    "\n",
    "- ![Creative Commons CC BY License](https://raw.githubusercontent.com/SouthernMethodistUniversity/intro-to-python/main/images/CC_BY.png)\n",
    "\n",
    "[READING PYTHON: a program of commands for talking to your computer](https://www.dropbox.com/scl/fi/2xg6cph6ag38iy5vzn0kg/intro-to-python-beginners.pptx?rlkey=xghsqe6xr2ahqds9nwicnsgxm&e=2&st=zjdg2qwf&dl=0)\n",
    "Created by [Dr Heather Froehlich](https://hfroehli.ch/) used under [Creative Commons CC BY License](https://creativecommons.org/licenses/by/4.0/)\n",
    "___"
   ]
  },
  {
   "cell_type": "code",
   "execution_count": null,
   "metadata": {},
   "outputs": [],
   "source": []
  },
  {
   "cell_type": "code",
   "execution_count": null,
   "metadata": {},
   "outputs": [],
   "source": []
  }
 ],
 "metadata": {
  "kernelspec": {
   "display_name": "Python 3 (ipykernel)",
   "language": "python",
   "name": "python3"
  },
  "language_info": {
   "codemirror_mode": {
    "name": "ipython",
    "version": 3
   },
   "file_extension": ".py",
   "mimetype": "text/x-python",
   "name": "python",
   "nbconvert_exporter": "python",
   "pygments_lexer": "ipython3",
   "version": "3.13.5"
  },
  "toc": {
   "base_numbering": 1,
   "nav_menu": {},
   "number_sections": true,
   "sideBar": true,
   "skip_h1_title": true,
   "title_cell": "Table of Contents",
   "title_sidebar": "Contents",
   "toc_cell": false,
   "toc_position": {},
   "toc_section_display": true,
   "toc_window_display": false
  }
 },
 "nbformat": 4,
 "nbformat_minor": 4
}
